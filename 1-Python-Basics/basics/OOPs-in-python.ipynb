{
 "cells": [
  {
   "cell_type": "markdown",
   "metadata": {},
   "source": [
    "## Object Oriented Programming in Python"
   ]
  },
  {
   "cell_type": "code",
   "execution_count": 7,
   "metadata": {},
   "outputs": [
    {
     "name": "stdout",
     "output_type": "stream",
     "text": [
      "<__main__.Car object at 0x000002ACDB22B620> <__main__.Car object at 0x000002ACDB27BF80>\n",
      "<class '__main__.Car'>\n"
     ]
    }
   ],
   "source": [
    "# A class is a blueprint for creating objects. Attribute, methods\n",
    "class Car:\n",
    "  pass\n",
    "\n",
    "audi = Car()\n",
    "bmw = Car()\n",
    "print(audi,bmw)\n",
    "print(type(audi))"
   ]
  },
  {
   "cell_type": "code",
   "execution_count": 9,
   "metadata": {},
   "outputs": [
    {
     "name": "stdout",
     "output_type": "stream",
     "text": [
      "4\n"
     ]
    }
   ],
   "source": [
    "audi.windows =4\n",
    "print(audi.windows)"
   ]
  },
  {
   "cell_type": "code",
   "execution_count": 10,
   "metadata": {},
   "outputs": [
    {
     "ename": "AttributeError",
     "evalue": "'Car' object has no attribute 'windows'",
     "output_type": "error",
     "traceback": [
      "\u001b[1;31m---------------------------------------------------------------------------\u001b[0m",
      "\u001b[1;31mAttributeError\u001b[0m                            Traceback (most recent call last)",
      "Cell \u001b[1;32mIn[10], line 3\u001b[0m\n\u001b[0;32m      1\u001b[0m tata \u001b[38;5;241m=\u001b[39m Car()\n\u001b[0;32m      2\u001b[0m tata\u001b[38;5;241m.\u001b[39mdoor \u001b[38;5;241m=\u001b[39m \u001b[38;5;241m4\u001b[39m\n\u001b[1;32m----> 3\u001b[0m \u001b[38;5;28mprint\u001b[39m(\u001b[43mtata\u001b[49m\u001b[38;5;241;43m.\u001b[39;49m\u001b[43mwindows\u001b[49m)\n",
      "\u001b[1;31mAttributeError\u001b[0m: 'Car' object has no attribute 'windows'"
     ]
    }
   ],
   "source": [
    "tata = Car()\n",
    "tata.door = 4\n",
    "# print(tata.windows) # AttributeError: 'Car' object has no attribute 'windows'"
   ]
  },
  {
   "cell_type": "code",
   "execution_count": 11,
   "metadata": {},
   "outputs": [
    {
     "data": {
      "text/plain": [
       "['__class__',\n",
       " '__delattr__',\n",
       " '__dict__',\n",
       " '__dir__',\n",
       " '__doc__',\n",
       " '__eq__',\n",
       " '__format__',\n",
       " '__ge__',\n",
       " '__getattribute__',\n",
       " '__getstate__',\n",
       " '__gt__',\n",
       " '__hash__',\n",
       " '__init__',\n",
       " '__init_subclass__',\n",
       " '__le__',\n",
       " '__lt__',\n",
       " '__module__',\n",
       " '__ne__',\n",
       " '__new__',\n",
       " '__reduce__',\n",
       " '__reduce_ex__',\n",
       " '__repr__',\n",
       " '__setattr__',\n",
       " '__sizeof__',\n",
       " '__str__',\n",
       " '__subclasshook__',\n",
       " '__weakref__',\n",
       " 'door']"
      ]
     },
     "execution_count": 11,
     "metadata": {},
     "output_type": "execute_result"
    }
   ],
   "source": [
    "dir(tata)"
   ]
  },
  {
   "cell_type": "code",
   "execution_count": 14,
   "metadata": {},
   "outputs": [
    {
     "name": "stdout",
     "output_type": "stream",
     "text": [
      "<__main__.Dog object at 0x000002ACDB7F5640>\n",
      "Name : Aro, age: 2\n"
     ]
    }
   ],
   "source": [
    "class Dog:\n",
    "  ## Constructor\n",
    "  def __init__(self,name, age):\n",
    "    self.name = name \n",
    "    self.age = age\n",
    "\n",
    "dog1 =Dog(\"Aro\",2)\n",
    "print(dog1)\n",
    "print(f\"Name : {dog1.name}, age: {dog1.age}\")"
   ]
  },
  {
   "cell_type": "code",
   "execution_count": 18,
   "metadata": {},
   "outputs": [
    {
     "name": "stdout",
     "output_type": "stream",
     "text": [
      "Aro says woof\n",
      "Rocky says woof\n"
     ]
    }
   ],
   "source": [
    "# class with Instance methods\n",
    "class Dog:\n",
    "  def __init__(self, name, age):\n",
    "    self.name=name\n",
    "    self.age=age\n",
    "  def bark(self):\n",
    "    print(f\"{self.name} says woof\")\n",
    "\n",
    "Aro = Dog(\"Aro\",2)\n",
    "Aro.bark()\n",
    "Rocky = Dog(\"Rocky\",4)\n",
    "Rocky.bark()"
   ]
  },
  {
   "cell_type": "code",
   "execution_count": 22,
   "metadata": {},
   "outputs": [
    {
     "name": "stdout",
     "output_type": "stream",
     "text": [
      "Sam\n",
      "5000\n"
     ]
    }
   ],
   "source": [
    "### Example Modeling a bank account\n",
    "\n",
    "# Define  a class for bank account\n",
    "\n",
    "class Bank_Account:\n",
    "  def __init__(self,owner,balance=0):\n",
    "    self.owner = owner\n",
    "    self.balance = balance\n",
    "  def diposit(self,amount):\n",
    "    self.balance+=amount\n",
    "    print(f\"{amount} is diposited.\\nNew balance is : {self.balance}\")\n",
    "\n",
    "  def withdraw(self, amount):\n",
    "    if amount > self.balance:\n",
    "      print(\"Insufficient funds\")\n",
    "    else:\n",
    "      self.balance-=amount\n",
    "      print(f\"{amount} is Withdrawn.\\nNew balance is : {self.balance}\")\n",
    "  def get_balance(self):\n",
    "    return self.balance\n",
    "  \n",
    "# Create an object\n",
    "account = Bank_Account(\"Sam\",5000)\n",
    "print(account.owner)\n",
    "print(account.balance)\n",
    "\n"
   ]
  },
  {
   "cell_type": "code",
   "execution_count": 23,
   "metadata": {},
   "outputs": [
    {
     "name": "stdout",
     "output_type": "stream",
     "text": [
      "100 is diposited.\n",
      "New balance is : 5100\n"
     ]
    }
   ],
   "source": [
    "account.diposit(100)"
   ]
  },
  {
   "cell_type": "code",
   "execution_count": 24,
   "metadata": {},
   "outputs": [
    {
     "name": "stdout",
     "output_type": "stream",
     "text": [
      "300 is Withdrawn.\n",
      "New balance is : 4800\n"
     ]
    }
   ],
   "source": [
    "account.withdraw(300)"
   ]
  },
  {
   "cell_type": "code",
   "execution_count": 25,
   "metadata": {},
   "outputs": [
    {
     "name": "stdout",
     "output_type": "stream",
     "text": [
      "4800\n"
     ]
    }
   ],
   "source": [
    "print(account.get_balance())"
   ]
  },
  {
   "cell_type": "markdown",
   "metadata": {},
   "source": [
    "#### Inheritance in Python\n"
   ]
  },
  {
   "cell_type": "code",
   "execution_count": 28,
   "metadata": {},
   "outputs": [],
   "source": [
    "\n",
    "# Parent class\n",
    "class Car:\n",
    "  def __init__(self, windows,doors,enginetype):\n",
    "    self.windows = windows\n",
    "    self.doors = doors\n",
    "    self.enginetype = enginetype\n",
    "  \n",
    "  def drive(self):\n",
    "    print(f\"The person is driving a {self.enginetype} car\")\n",
    "  "
   ]
  },
  {
   "cell_type": "code",
   "execution_count": 30,
   "metadata": {},
   "outputs": [
    {
     "name": "stdout",
     "output_type": "stream",
     "text": [
      "The person is driving a petrol car\n"
     ]
    }
   ],
   "source": [
    "car1 =Car(4,5,\"petrol\")\n",
    "car1.drive()"
   ]
  },
  {
   "cell_type": "code",
   "execution_count": 35,
   "metadata": {},
   "outputs": [],
   "source": [
    "class Tesla(Car):\n",
    "  def __init__(self, windows,doors,enginetype,is_selfdriving):\n",
    "    super().__init__(windows,doors,enginetype)\n",
    "    self.is_selfdriving = is_selfdriving\n",
    "  def selfdriving(self):\n",
    "    print(f\"The car supports self driving : {self.is_selfdriving}\")\n",
    "  \n",
    "\n",
    "\n"
   ]
  },
  {
   "cell_type": "code",
   "execution_count": 36,
   "metadata": {},
   "outputs": [
    {
     "name": "stdout",
     "output_type": "stream",
     "text": [
      "The car supports self driving : True\n"
     ]
    }
   ],
   "source": [
    "tesla1 = Tesla(4,5,\"Electric\",True)\n",
    "tesla1.selfdriving()"
   ]
  },
  {
   "cell_type": "code",
   "execution_count": 37,
   "metadata": {},
   "outputs": [
    {
     "name": "stdout",
     "output_type": "stream",
     "text": [
      "The person is driving a Electric car\n"
     ]
    }
   ],
   "source": [
    "tesla1.drive()"
   ]
  },
  {
   "cell_type": "code",
   "execution_count": 41,
   "metadata": {},
   "outputs": [],
   "source": [
    "# Multiple Inheritance\n",
    "# When a class inherits from more than 1 base class\n",
    "\n",
    "\n",
    "# Create base class1\n",
    "class Animal:\n",
    "  def __init__(self,name):\n",
    "    self.name=name\n",
    "\n",
    "  def speak(self):\n",
    "    print(\"subclass must implement this method\")\n",
    "\n",
    "# Creating base class2\n",
    "class Pet:\n",
    "  def __init__(self,owner):\n",
    "    self.owner=owner\n",
    "\n",
    "# Creating derived class\n",
    "class Dog(Animal,Pet):\n",
    "  def __init__(self,name,owner):\n",
    "    Animal.__init__(self,name)\n",
    "    Pet.__init__(self,owner)\n",
    "  \n",
    "  def speak(self):\n",
    "    return f\"{self.name} says woof.\"\n"
   ]
  },
  {
   "cell_type": "code",
   "execution_count": 42,
   "metadata": {},
   "outputs": [
    {
     "name": "stdout",
     "output_type": "stream",
     "text": [
      "Arabinda says woof.\n"
     ]
    }
   ],
   "source": [
    "dog = Dog(\"Arabinda\",\"Samitinjay\")\n",
    "print(dog.speak())"
   ]
  },
  {
   "cell_type": "code",
   "execution_count": 44,
   "metadata": {},
   "outputs": [
    {
     "name": "stdout",
     "output_type": "stream",
     "text": [
      "Dog Name: Arabinda\n",
      "Owner : Samitinjay.\n"
     ]
    }
   ],
   "source": [
    "print(f\"Dog Name: {dog.name}\\nOwner : {dog.owner}.\")"
   ]
  },
  {
   "cell_type": "markdown",
   "metadata": {},
   "source": [
    "#### Polymorphism\n"
   ]
  },
  {
   "cell_type": "code",
   "execution_count": 50,
   "metadata": {},
   "outputs": [
    {
     "name": "stdout",
     "output_type": "stream",
     "text": [
      "woof\n",
      "Meow\n",
      "Meow\n",
      "woof\n",
      "Sound of the animal\n"
     ]
    }
   ],
   "source": [
    "# Base class\n",
    "\n",
    "class Animal:\n",
    "  def speak(self):\n",
    "    print(\"Sound of the animal\")\n",
    "# Derived class 1\n",
    "class Dog(Animal):\n",
    "  def speak(self):\n",
    "    print(\"woof\")\n",
    "\n",
    "# Derive class 2\n",
    "class Cat(Animal):\n",
    "  def speak(self):\n",
    "    print(\"Meow\")\n",
    "\n",
    "def animal_speak(animal): # Takes an object\n",
    "  animal.speak()\n",
    "\n",
    "dog = Dog()\n",
    "dog.speak()\n",
    "cat=Cat()\n",
    "cat.speak()\n",
    "animal_speak(cat)\n",
    "animal_speak(dog)\n",
    "animal = Animal()\n",
    "animal_speak(animal)"
   ]
  },
  {
   "cell_type": "code",
   "execution_count": 59,
   "metadata": {},
   "outputs": [],
   "source": [
    "# Poly morphism with function and method\n",
    "\n",
    "# Base class\n",
    "class Shape:\n",
    "  def area(self):\n",
    "    return \"The area of the figure\"\n",
    "  \n",
    "# Derived class 1\n",
    "class Rectangle(Shape):\n",
    "  def __init__(self,width,height):\n",
    "    self.height = height\n",
    "    self.width = width\n",
    "  def area(self):\n",
    "    return self.width*self.height\n",
    "  \n",
    "# Derived class 2\n",
    "class Circle(Shape):\n",
    "  def __init__(self,radius):\n",
    "    self.radius = radius\n",
    "  def area(self):\n",
    "    return 3.14*self.radius**2\n",
    "  \n",
    "\n",
    "# Write a function that demonstrate polymorphism\n",
    "\n",
    "def print_area(shape):\n",
    "  print(f\"The Area is : {shape.area()}\")\n",
    "  "
   ]
  },
  {
   "cell_type": "code",
   "execution_count": 60,
   "metadata": {},
   "outputs": [
    {
     "name": "stdout",
     "output_type": "stream",
     "text": [
      "The Area is : The area of the figure\n",
      "The Area is : 6\n",
      "The Area is : 28.26\n"
     ]
    }
   ],
   "source": [
    "shape = Shape()\n",
    "rectangle = Rectangle(2,3)\n",
    "circle =Circle(3)\n",
    "\n",
    "print_area(shape)\n",
    "print_area(rectangle)\n",
    "print_area(circle)"
   ]
  },
  {
   "cell_type": "markdown",
   "metadata": {},
   "source": [
    "#### Polymorphism Abstract base class (interfaces)\n",
    "\n",
    "* Used to define common methods for a group of related Objects.\n",
    "* They can enforce classes implement particular methods, promoting consistanct across different implementations.\n",
    "\n"
   ]
  },
  {
   "cell_type": "code",
   "execution_count": 66,
   "metadata": {},
   "outputs": [
    {
     "name": "stdout",
     "output_type": "stream",
     "text": [
      "Car engine started.\n",
      "Motorcycle engine started.\n"
     ]
    }
   ],
   "source": [
    "from abc import ABC, abstractmethod\n",
    "\n",
    "# Define an abstract class\n",
    "class Vehicle(ABC):\n",
    "  @abstractmethod\n",
    "  def start_engine(self):pass\n",
    "\n",
    "# Derived class1\n",
    "\n",
    "class Car(Vehicle):\n",
    "  def start_engine(self):\n",
    "    return \"Car engine started.\"\n",
    "  \n",
    "# Derived class 2\n",
    "class Motorcycle(Vehicle):\n",
    "  def start_engine(self):\n",
    "    return \"Motorcycle engine started.\"\n",
    "  \n",
    "# Create object of Car and Motorcycle\n",
    "car = Car()\n",
    "motorcycle = Motorcycle()\n",
    "\n",
    "def start_vehicle(vehicle):\n",
    "  print(vehicle.start_engine())\n",
    "\n",
    "start_vehicle(car)\n",
    "start_vehicle(motorcycle)"
   ]
  },
  {
   "cell_type": "markdown",
   "metadata": {},
   "source": [
    "### Encapsulation And Abstraction\n",
    "* These are two fundamental pipelinesof OOP that helps in desigining robust, maintainable ,and reusable code.\n",
    "* Encapsulation involves hiding complex implementation details and exposing only the necessary features.\n"
   ]
  },
  {
   "cell_type": "markdown",
   "metadata": {},
   "source": [
    "#### Encapsulation \n",
    "\n",
    "* Encapsulation is the concept of wraping data(variables) and methods together as a single unit. It restrict direct access to some of the object's components, which is a means of preventing accidental interfarence and misuse of the data.\n"
   ]
  },
  {
   "cell_type": "code",
   "execution_count": 8,
   "metadata": {},
   "outputs": [
    {
     "name": "stdout",
     "output_type": "stream",
     "text": [
      "Samitinajy\n",
      "Name:  Samitinajy\n"
     ]
    }
   ],
   "source": [
    "# Encapsulation with getter and setter method\n",
    "## Public protected and private variables\n",
    "class Person:\n",
    "  def __init__(self,name,age) -> None:\n",
    "    self.name=name ## Public variables\n",
    "    self.age=age    ## Public variables\n",
    "    # Public variables can be called and used out side of class directly\n",
    "\n",
    "    def get_name(self):\n",
    "      return self.name\n",
    "\n",
    "\n",
    "# For example\n",
    "person=Person(\"Samitinajy\",25)\n",
    "print(person.name)\n",
    "def get_name(person):\n",
    "  return person.name\n",
    "print(\"Name: \",get_name(person))"
   ]
  },
  {
   "cell_type": "code",
   "execution_count": 9,
   "metadata": {},
   "outputs": [
    {
     "data": {
      "text/plain": [
       "['__class__',\n",
       " '__delattr__',\n",
       " '__dict__',\n",
       " '__dir__',\n",
       " '__doc__',\n",
       " '__eq__',\n",
       " '__format__',\n",
       " '__ge__',\n",
       " '__getattribute__',\n",
       " '__getstate__',\n",
       " '__gt__',\n",
       " '__hash__',\n",
       " '__init__',\n",
       " '__init_subclass__',\n",
       " '__le__',\n",
       " '__lt__',\n",
       " '__module__',\n",
       " '__ne__',\n",
       " '__new__',\n",
       " '__reduce__',\n",
       " '__reduce_ex__',\n",
       " '__repr__',\n",
       " '__setattr__',\n",
       " '__sizeof__',\n",
       " '__str__',\n",
       " '__subclasshook__',\n",
       " '__weakref__',\n",
       " 'age',\n",
       " 'name']"
      ]
     },
     "execution_count": 9,
     "metadata": {},
     "output_type": "execute_result"
    }
   ],
   "source": [
    "dir(person)"
   ]
  },
  {
   "cell_type": "code",
   "execution_count": 19,
   "metadata": {},
   "outputs": [
    {
     "name": "stdout",
     "output_type": "stream",
     "text": [
      "Samitinajy\n"
     ]
    }
   ],
   "source": [
    "# Private Variable with getter and setter\n",
    "class Person:\n",
    "  def __init__(self,name,age,gender) -> None:\n",
    "    self.__name=name ## private variables\n",
    "    self.__age=age    ## private variables\n",
    "    self.gender = gender ## Public variable\n",
    "\n",
    "    # Private variables can't be called and used out side of class directly\n",
    "  def get_name(self):\n",
    "      return self.__name\n",
    "  def get_age(self):\n",
    "     return self.__age\n",
    "  def set_name(self,name):\n",
    "     self.__name=name\n",
    "  def set_age(self,age):\n",
    "     self.__age =age\n",
    "\n",
    "def get_name(person):\n",
    "   return person.__name\n",
    "\n",
    "# For example\n",
    "person=Person(\"Samitinajy\",25,\"Male\")\n",
    "# print(get_name(person)) # Error __name is a private variable it's not possible to access outside the class \n",
    "# AttributeError: 'Person' object has no attribute '__name'\n",
    "print(person.get_name())"
   ]
  },
  {
   "cell_type": "code",
   "execution_count": 32,
   "metadata": {},
   "outputs": [
    {
     "name": "stdout",
     "output_type": "stream",
     "text": [
      "Samitinjay\n",
      "Samitinajy\n"
     ]
    }
   ],
   "source": [
    "# Protected Variable with getter and setter\n",
    "# Parent class\n",
    "class Person:\n",
    "  def __init__(self,name,age,gender) -> None:\n",
    "    self._name=name ## Protected variables\n",
    "    self._age=age    ## Protected variables\n",
    "    self.gender = gender ## Public variable\n",
    "\n",
    "  # Private variables can't be called and used out side of class directly\n",
    "\n",
    "  # Getter method\n",
    "  # Functions to get name and age \n",
    "  def get_name(self):\n",
    "      return self._name\n",
    "  def get_age(self):\n",
    "     return self._age\n",
    "  \n",
    "  # Setter methods\n",
    "  # Functions to set name and age\n",
    "  def set_name(self,name):\n",
    "     self._name=name\n",
    "  def set_age(self,age):\n",
    "     self._age =age\n",
    "\n",
    "# Derived class\n",
    "class Employee(Person):\n",
    "   def __init__(self,name,age,gender,salary):\n",
    "      super().__init__(name,age,gender)\n",
    "      self.salary = salary # Public variable\n",
    "      \n",
    "\n",
    "# Instantiate Employee\n",
    "employee = Employee(\"Samitinjay\",25,\"Male\",25000)\n",
    "print(employee._name)\n",
    "\n",
    "\n",
    "# Function to get name\n",
    "def get_name(person):\n",
    "   return person._name\n",
    "\n",
    "# For example\n",
    "person=Person(\"Samitinajy\",25,\"Male\")\n",
    "# print(get_name(person)) # Error __name is a private variable it's not possible to access outside the class \n",
    "# AttributeError: 'Person' object has no attribute '__name'\n",
    "print(person.get_name()) # Protected variables can't be accessed outside but can be accessed from derived class "
   ]
  },
  {
   "cell_type": "markdown",
   "metadata": {},
   "source": [
    "\n",
    "#### Abstraction \n",
    "* Abstraction is the concept of hiding the complex implementation details and showing only the necessary features of an object.\n",
    "* This helps in reducing programming complexity and effort. "
   ]
  },
  {
   "cell_type": "code",
   "execution_count": 36,
   "metadata": {},
   "outputs": [
    {
     "name": "stdout",
     "output_type": "stream",
     "text": [
      "Car engine started\n"
     ]
    }
   ],
   "source": [
    "from abc import ABC,abstractmethod\n",
    "\n",
    "# Abstract base class\n",
    "class Vehicle(ABC):\n",
    "  def drive(self):\n",
    "    print(\"the vehicle is used for driving\")\n",
    "\n",
    "  @abstractmethod\n",
    "  def start_engine(self):...\n",
    "\n",
    "\n",
    "class Car(Vehicle):\n",
    "  def start_engine(self):\n",
    "    print(\"Car engine started\")\n",
    "\n",
    "\n",
    "def operate_vehicle(vehicle):\n",
    "  vehicle.start_engine()\n",
    "\n",
    "car=Car()\n",
    "operate_vehicle(car)\n"
   ]
  },
  {
   "cell_type": "code",
   "execution_count": null,
   "metadata": {},
   "outputs": [],
   "source": []
  }
 ],
 "metadata": {
  "kernelspec": {
   "display_name": "Python 3",
   "language": "python",
   "name": "python3"
  },
  "language_info": {
   "codemirror_mode": {
    "name": "ipython",
    "version": 3
   },
   "file_extension": ".py",
   "mimetype": "text/x-python",
   "name": "python",
   "nbconvert_exporter": "python",
   "pygments_lexer": "ipython3",
   "version": "3.12.4"
  }
 },
 "nbformat": 4,
 "nbformat_minor": 2
}
