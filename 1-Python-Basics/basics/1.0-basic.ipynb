{
 "cells": [
  {
   "cell_type": "markdown",
   "metadata": {},
   "source": [
    "### Sets in Python\n",
    "* Duplicates are note allowed\n",
    "* Unordered\n",
    "* Useful for membership tests, eleminating duplicate elements, mathematical operations `(like union, intersection, difference and symetric difference)`\n"
   ]
  },
  {
   "cell_type": "code",
   "execution_count": 1,
   "metadata": {},
   "outputs": [
    {
     "name": "stdout",
     "output_type": "stream",
     "text": [
      "{1, 2, 3, 4, 5, 6, 8} <class 'set'>\n"
     ]
    }
   ],
   "source": [
    "# Create a set\n",
    "\n",
    "my_set = {1, 2, 3, 4, 5, 6, 8}\n",
    "print(my_set, type(my_set))"
   ]
  },
  {
   "cell_type": "code",
   "execution_count": 2,
   "metadata": {},
   "outputs": [
    {
     "data": {
      "text/plain": [
       "(set, set())"
      ]
     },
     "execution_count": 2,
     "metadata": {},
     "output_type": "execute_result"
    }
   ],
   "source": [
    "my_empty_set=set()\n",
    "type(my_empty_set),my_empty_set"
   ]
  },
  {
   "cell_type": "code",
   "execution_count": 3,
   "metadata": {},
   "outputs": [
    {
     "name": "stdout",
     "output_type": "stream",
     "text": [
      "list_to_set1 : {1, 2, 3, 4}\n",
      "list_to_set2 : {4, 5, 6, 7}\n"
     ]
    }
   ],
   "source": [
    "lst=[1, 2, 3, 4]\n",
    "list_to_set1 = set(lst)\n",
    "list_to_set2 =set([4,5,6,7])\n",
    "\n",
    "print(f\"list_to_set1 : {list_to_set1}\\nlist_to_set2 : {list_to_set2}\")"
   ]
  },
  {
   "cell_type": "code",
   "execution_count": 4,
   "metadata": {},
   "outputs": [
    {
     "data": {
      "text/plain": [
       "{1, 2, 3, 4, 5, 6, 8}"
      ]
     },
     "execution_count": 4,
     "metadata": {},
     "output_type": "execute_result"
    }
   ],
   "source": [
    "# Basic sets operations\n",
    "## Adding and removing element\n",
    "my_set"
   ]
  },
  {
   "cell_type": "code",
   "execution_count": 5,
   "metadata": {},
   "outputs": [],
   "source": [
    "my_set.add(7)"
   ]
  },
  {
   "cell_type": "code",
   "execution_count": 6,
   "metadata": {},
   "outputs": [
    {
     "data": {
      "text/plain": [
       "{1, 2, 3, 4, 5, 6, 7, 8}"
      ]
     },
     "execution_count": 6,
     "metadata": {},
     "output_type": "execute_result"
    }
   ],
   "source": [
    "my_set.add(7) #ignore duplicates\n",
    "my_set"
   ]
  },
  {
   "cell_type": "code",
   "execution_count": 7,
   "metadata": {},
   "outputs": [
    {
     "data": {
      "text/plain": [
       "{1, 2, 4, 5, 6, 7, 8}"
      ]
     },
     "execution_count": 7,
     "metadata": {},
     "output_type": "execute_result"
    }
   ],
   "source": [
    "my_set.remove(3)\n",
    "my_set"
   ]
  },
  {
   "cell_type": "code",
   "execution_count": 8,
   "metadata": {},
   "outputs": [],
   "source": [
    "# Removing element which is not present will give an error(more specifically KeyError)\n",
    "# my_set.remove(10)"
   ]
  },
  {
   "cell_type": "code",
   "execution_count": 9,
   "metadata": {},
   "outputs": [
    {
     "data": {
      "text/plain": [
       "{1, 2, 4, 5, 6, 7, 8}"
      ]
     },
     "execution_count": 9,
     "metadata": {},
     "output_type": "execute_result"
    }
   ],
   "source": [
    "# To ignote the error\n",
    "my_set.discard(10) # It will rwmove the element if present else ignore\n",
    "my_set "
   ]
  },
  {
   "cell_type": "code",
   "execution_count": 10,
   "metadata": {},
   "outputs": [
    {
     "data": {
      "text/plain": [
       "{2, 4, 5, 6, 7, 8}"
      ]
     },
     "execution_count": 10,
     "metadata": {},
     "output_type": "execute_result"
    }
   ],
   "source": [
    "# pop method : remove first element from the set\n",
    "my_set.pop()\n",
    "my_set"
   ]
  },
  {
   "cell_type": "code",
   "execution_count": 11,
   "metadata": {},
   "outputs": [
    {
     "data": {
      "text/plain": [
       "{4, 5, 6, 7, 8}"
      ]
     },
     "execution_count": 11,
     "metadata": {},
     "output_type": "execute_result"
    }
   ],
   "source": [
    "my_set.pop()\n",
    "my_set"
   ]
  },
  {
   "cell_type": "code",
   "execution_count": 12,
   "metadata": {},
   "outputs": [
    {
     "data": {
      "text/plain": [
       "set()"
      ]
     },
     "execution_count": 12,
     "metadata": {},
     "output_type": "execute_result"
    }
   ],
   "source": [
    "## Clear all the elements from the set\n",
    "my_set.clear()\n",
    "my_set"
   ]
  },
  {
   "cell_type": "code",
   "execution_count": 13,
   "metadata": {},
   "outputs": [
    {
     "name": "stdout",
     "output_type": "stream",
     "text": [
      "True\n",
      "False\n"
     ]
    }
   ],
   "source": [
    "# Set membership test\n",
    "\n",
    "my_set ={1,2,3,4,5,6}\n",
    "print(3 in my_set)\n",
    "print(7 in my_set)"
   ]
  },
  {
   "cell_type": "code",
   "execution_count": 14,
   "metadata": {},
   "outputs": [
    {
     "name": "stdout",
     "output_type": "stream",
     "text": [
      "Set1 = {1, 2, 3, 4, 5, 6}\n",
      "Set2 = {3, 4, 5, 6, 7, 8, 9}\n",
      "Union set = {1, 2, 3, 4, 5, 6, 7, 8, 9}\n",
      "Intersection set = {3, 4, 5, 6}\n",
      "set1 difference set2 = {1, 2}\n",
      "Set2 difference set1 = {8, 9, 7}\n",
      "set1 after intersectuin_update() : {3, 4, 5, 6}\n",
      "set2 after difference_update() : None\n",
      "set1 symetric difference {3, 4, 5, 6, 7, 8, 9}\n",
      "set1 after symetric_difference_update() : None\n"
     ]
    }
   ],
   "source": [
    "# Mathematical operations\n",
    "set1 ={1,2,3,4,5,6}\n",
    "set2={3,4,5,6,7,8,9}\n",
    "print(f\"Set1 = {set1}\\nSet2 = {set2}\")\n",
    "# Union\n",
    "union_set = set1.union(set2)\n",
    "print(f\"Union set = {union_set}\")\n",
    "\n",
    "# Intersection\n",
    "intersection_set = set1.intersection(set2)\n",
    "print(f\"Intersection set = {intersection_set}\")\n",
    "\n",
    "# Difference\n",
    "difference1 =set1.difference(set2)\n",
    "difference2 = set2.difference(set1)\n",
    "print(f\"set1 difference set2 = {difference1}\\nSet2 difference set1 = {difference2}\")\n",
    "\n",
    "# inrtersection_update(), difference_update()\n",
    "set1.intersection_update(set2)\n",
    "print(f\"set1 after intersectuin_update() : {set1}\")\n",
    "print(f\"set2 after difference_update() : {set2.difference_update(set1)}\")\n",
    "print(f\"set1 symetric difference {set1.symmetric_difference(set2)}\")\n",
    "print(f\"set1 after symetric_difference_update() : {set1.symmetric_difference_update(set2)}\")"
   ]
  },
  {
   "cell_type": "code",
   "execution_count": 15,
   "metadata": {},
   "outputs": [
    {
     "name": "stdout",
     "output_type": "stream",
     "text": [
      "is set1 a subset of set2 :False\n",
      "is set1 a superset of set2 :False\n"
     ]
    }
   ],
   "source": [
    "# some sets methods\n",
    "set1 = {1,2,3}\n",
    "set2 = {3,4,5}\n",
    "\n",
    "# issubset(), issuperset()\n",
    "print(f\"is set1 a subset of set2 :{set1.issubset(set2)}\")\n",
    "print(f\"is set1 a superset of set2 :{set1.issuperset(set2)}\")\n",
    "      "
   ]
  },
  {
   "cell_type": "code",
   "execution_count": 16,
   "metadata": {},
   "outputs": [
    {
     "name": "stdout",
     "output_type": "stream",
     "text": [
      "List after removing duplicates: [1, 2, 3, 4, 5]\n"
     ]
    }
   ],
   "source": [
    "# Remove duplicates from  list by converting it to set\n",
    "lst = [1,2,3,2,4,4,5]\n",
    "lst = list(set(lst))\n",
    "print(f\"List after removing duplicates: {lst}\")"
   ]
  },
  {
   "cell_type": "code",
   "execution_count": 17,
   "metadata": {},
   "outputs": [
    {
     "name": "stdout",
     "output_type": "stream",
     "text": [
      "Unique words in the text : {'we', 'about', 'sets', 'discussing', 'this', 'tutorial', 'In', 'are'}\n",
      "Number of unique words in the text : 8.\n"
     ]
    }
   ],
   "source": [
    "# Counting unique word in text\n",
    "\n",
    "text = \"In this tutorial we are discussing about sets\"\n",
    "words = text.split(sep=' ')\n",
    "# Convert list to set to get unique words\n",
    "unique_words = set(words)\n",
    "print(f\"Unique words in the text : {unique_words}\\nNumber of unique words in the text : {len(unique_words)}.\")"
   ]
  },
  {
   "cell_type": "markdown",
   "metadata": {},
   "source": [
    "### Dictinary In Python\n",
    "\n",
    "In Python Dictonary are :\n",
    "* Mutable (we can add, update or delete elements)\n",
    "* Unordered collections of items\n",
    "* Dictonary store data in key, value pairs `(Example: {Key1 : value1, key2 : value2})`\n",
    "* keys are always unique and value can be any type\n"
   ]
  },
  {
   "cell_type": "code",
   "execution_count": 18,
   "metadata": {},
   "outputs": [
    {
     "name": "stdout",
     "output_type": "stream",
     "text": [
      " Empty dict 1 and 2 : ({}, {})\n",
      " types : (<class 'dict'>, <class 'dict'>)\n"
     ]
    }
   ],
   "source": [
    "# Creating Dictonary\n",
    "empty_dict1 = {}\n",
    "empty_dict2 = dict()\n",
    "print(f\" Empty dict 1 and 2 : {empty_dict1, empty_dict2}\\n types : {type(empty_dict1), type(empty_dict2)}\")"
   ]
  },
  {
   "cell_type": "code",
   "execution_count": 19,
   "metadata": {},
   "outputs": [
    {
     "name": "stdout",
     "output_type": "stream",
     "text": [
      "Student details in a dict : {'name': 'Samitinjay', 'age': 25, 'grade': 'A'}\n",
      " type : <class 'dict'>\n"
     ]
    }
   ],
   "source": [
    "# Creating a dictonary\n",
    "student = {\"name\":\"Samitinjay\",\n",
    "           \"age\": 25,\n",
    "           \"grade\":'A'}\n",
    "print(f\"Student details in a dict : {student}\\n type : {type(student)}\")"
   ]
  },
  {
   "cell_type": "code",
   "execution_count": 20,
   "metadata": {},
   "outputs": [
    {
     "name": "stdout",
     "output_type": "stream",
     "text": [
      "{'name': 'sam', 'age': 24, 'grade': 'A'}\n"
     ]
    }
   ],
   "source": [
    "# Duplicate keys problem\n",
    "student = {\"name\":\"samit\",\n",
    "           \"age\":24,\n",
    "           \"grade\":\"A\",\n",
    "           \"name\":\"sam\"} # Take the last value in case of same key present in the dict\n",
    "print(student)\n"
   ]
  },
  {
   "cell_type": "code",
   "execution_count": 21,
   "metadata": {},
   "outputs": [
    {
     "name": "stdout",
     "output_type": "stream",
     "text": [
      "Accessing the grade: A \n",
      "Age: 24\n",
      "Grade using get(): A\n",
      "Last name using get() : None\n",
      "Last name using get() if None set to 'not available' : not available\n",
      "student dict : {'name': 'samitinjay', 'age': 24, 'grade': 'A'}\n",
      "Student after adding addtess : {'name': 'samitinjay', 'age': 24, 'grade': 'A', 'address': 'India'}\n",
      "Student After updating age : {'name': 'samitinjay', 'age': 25, 'grade': 'A', 'address': 'India'}\n",
      "student After deleting grade key (key:value) : {'name': 'samitinjay', 'age': 25, 'address': 'India'}\n"
     ]
    }
   ],
   "source": [
    "# Accessig dict elements\n",
    "student = {\"name\":\"samitinjay\",\n",
    "           \"age\":24,\n",
    "           \"grade\":\"A\"}\n",
    "\n",
    "print(f\"Accessing the grade: {student[\"grade\"]} \")\n",
    "print(f\"Age: {student[\"age\"]}\")\n",
    "\n",
    "# Another method `get()`\n",
    "print(f\"Grade using get(): {student.get(\"grade\")}\")\n",
    "# Accessing the element i.e not available in the dict\n",
    "print(f\"Last name using get() : {student.get(\"last_name\")}\")\n",
    "# print(f\"nLast name using [] : {student[\"last_name\"]}\") # KeyError: 'last_name'\n",
    "print(f\"Last name using get() if None set to 'not available' : {student.get(\"last_name\",\"not available\")}\")\n",
    "\n",
    "# Modifying dict elements\n",
    "print(f\"student dict : {student}\")\n",
    "# Add a new key\n",
    "student[\"address\"] = \"India\"\n",
    "print(f\"Student after adding addtess : {student}\")\n",
    "# Update\n",
    "student[\"age\"] = 25\n",
    "print(f\"Student After updating age : {student}\")\n",
    "# Delete a key\n",
    "del student[\"grade\"] # Give error if not present\n",
    "print(f\"student After deleting grade key (key:value) : {student}\")"
   ]
  },
  {
   "cell_type": "code",
   "execution_count": 22,
   "metadata": {},
   "outputs": [
    {
     "name": "stdout",
     "output_type": "stream",
     "text": [
      "keys : dict_keys(['name', 'age', 'address'])\n",
      "Values : dict_values(['samitinjay', 25, 'India'])\n",
      "Types : (<class 'dict_keys'>, <class 'dict_values'>)\n",
      "All items in the form of list of tuples : dict_items([('name', 'samitinjay'), ('age', 25), ('address', 'India')])\n",
      "student_copy : {'name': 'samitinjay', 'age': 25, 'address': 'India'}\n",
      "student_copy after updating student dict : {'name': 'samitinjay Mishra', 'age': 25, 'address': 'India'}\n",
      "Student dict : {'name': 'samitinjay', 'age': 25, 'address': 'India'}\n",
      "student_shallow_copy after updating student dict : {'name': 'samitinjay Mishra', 'age': 25, 'address': 'India'}\n"
     ]
    }
   ],
   "source": [
    "# Dictonary methods\n",
    "\n",
    "keys = student.keys()\n",
    "values = student.values()\n",
    "print(f\"keys : {keys}\\nValues : {values}\")\n",
    "print(f\"Types : {type(keys),type(values)}\")\n",
    "\n",
    "\n",
    "# Get key, value pairs in the  form of list of tuples `e.g. -[(),(),()...]`\n",
    "\n",
    "items = student.items()\n",
    "print(f\"All items in the form of list of tuples : {items}\")\n",
    "\n",
    "\n",
    "# Copy and shallow copy\n",
    "\n",
    "student_copy = student\n",
    "print(f\"student_copy : {student_copy}\")\n",
    "student[\"name\"] = \"samitinjay Mishra\"\n",
    "# Also copy the updated name of student\n",
    "print(f\"student_copy after updating student dict : {student_copy}\")\n",
    "\n",
    "\n",
    "# Shallow_copy()\n",
    "\n",
    "student_shallow_copy = student.copy()\n",
    "student[\"name\"] = \"samitinjay\"\n",
    "print(f\"Student dict : {student}\")\n",
    "print(f\"student_shallow_copy after updating student dict : {student_shallow_copy}\")\n",
    "\n",
    "\n"
   ]
  },
  {
   "cell_type": "code",
   "execution_count": 23,
   "metadata": {},
   "outputs": [
    {
     "name": "stdout",
     "output_type": "stream",
     "text": [
      "Over dict.keys() : \n",
      "name\n",
      "age\n",
      "address\n",
      "Over dict.values():\n",
      "samitinjay\n",
      "25\n",
      "India\n",
      "Over dict.items():\n",
      "name samitinjay\n",
      "age 25\n",
      "address India\n"
     ]
    }
   ],
   "source": [
    "# Iterating over dict\n",
    "\n",
    "# using loops iterating a dictonary\n",
    "# Over keys\n",
    "print(\"Over dict.keys() : \")\n",
    "for keys in student.keys():\n",
    "  print(keys)\n",
    "\n",
    "# Over values\n",
    "print(\"Over dict.values():\")\n",
    "for values in student.values():\n",
    "  print(values)\n",
    "\"\"\"\n",
    "Syntax:\n",
    "for key, value in dict_name:\n",
    "    #code\n",
    "\"\"\"\n",
    "# Over items\n",
    "print(\"Over dict.items():\")\n",
    "for key, value in student.items():\n",
    "  print(key,value)\n"
   ]
  },
  {
   "cell_type": "code",
   "execution_count": 24,
   "metadata": {},
   "outputs": [
    {
     "data": {
      "text/plain": [
       "dict_items([('name', 'samitinjay'), ('age', 25), ('address', 'India')])"
      ]
     },
     "execution_count": 24,
     "metadata": {},
     "output_type": "execute_result"
    }
   ],
   "source": [
    "student.items()"
   ]
  },
  {
   "cell_type": "code",
   "execution_count": 25,
   "metadata": {},
   "outputs": [
    {
     "data": {
      "text/plain": [
       "{'student1': {'name': 'samitinjay',\n",
       "  'age': 24,\n",
       "  'grade': {'C': 'O', 'Jave': 'A', 'Python': 'O'}},\n",
       " 'student2': {'name': 'samit',\n",
       "  'age': 25,\n",
       "  'grade': {'C': 'A', 'Jave': 'O', 'Python': 'A'}},\n",
       " 'student3': {'name': 'Sam',\n",
       "  'age': 23,\n",
       "  'grade': {'C': 'A', 'Jave': 'O', 'Python': 'A'}}}"
      ]
     },
     "execution_count": 25,
     "metadata": {},
     "output_type": "execute_result"
    }
   ],
   "source": [
    "# Nested dict\n",
    "students = {\n",
    "  \"student1\":{\n",
    "    \"name\":\"samitinjay\",\n",
    "    \"age\":24,\n",
    "    \"grade\":{\n",
    "      \"C\":\"O\",\n",
    "      \"Jave\":\"A\",\n",
    "      \"Python\":\"O\"\n",
    "    }\n",
    "  },\n",
    "  \"student2\":{\n",
    "    \"name\":\"samit\",\n",
    "    \"age\":25,\n",
    "    \"grade\":{\n",
    "      \"C\":\"A\",\n",
    "      \"Jave\":\"O\",\n",
    "      \"Python\":\"A\"\n",
    "    }\n",
    "  },\n",
    "  \"student3\":{\n",
    "    \"name\":\"Sam\",\n",
    "    \"age\":23,\n",
    "    \"grade\":{\n",
    "      \"C\":\"A\",\n",
    "      \"Jave\":\"O\",\n",
    "      \"Python\":\"A\"\n",
    "    }\n",
    "  }\n",
    "}\n",
    "students"
   ]
  },
  {
   "cell_type": "code",
   "execution_count": 26,
   "metadata": {},
   "outputs": [
    {
     "name": "stdout",
     "output_type": "stream",
     "text": [
      "{'name': 'samitinjay', 'age': 24, 'grade': {'C': 'O', 'Jave': 'A', 'Python': 'O'}}\n",
      "{'C': 'O', 'Jave': 'A', 'Python': 'O'}\n",
      "O\n"
     ]
    }
   ],
   "source": [
    "# Accessing Nested dict elements\n",
    "print(students[\"student1\"])\n",
    "print(students['student1'][\"grade\"])\n",
    "print(students[\"student1\"][\"grade\"][\"Python\"])"
   ]
  },
  {
   "cell_type": "code",
   "execution_count": 27,
   "metadata": {},
   "outputs": [
    {
     "name": "stdout",
     "output_type": "stream",
     "text": [
      " Student id : student1\n",
      "Student info: \n",
      "{'name': 'samitinjay', 'age': 24, 'grade': {'C': 'O', 'Jave': 'A', 'Python': 'O'}}\n",
      "\n",
      "\n",
      "name - samitinjay\n",
      "age - 24\n",
      "grade - {'C': 'O', 'Jave': 'A', 'Python': 'O'}\n",
      " Subject : C --> Grade: O\n",
      " Subject : Jave --> Grade: A\n",
      " Subject : Python --> Grade: O\n",
      " Student id : student2\n",
      "Student info: \n",
      "{'name': 'samit', 'age': 25, 'grade': {'C': 'A', 'Jave': 'O', 'Python': 'A'}}\n",
      "\n",
      "\n",
      "name - samit\n",
      "age - 25\n",
      "grade - {'C': 'A', 'Jave': 'O', 'Python': 'A'}\n",
      " Subject : C --> Grade: A\n",
      " Subject : Jave --> Grade: O\n",
      " Subject : Python --> Grade: A\n",
      " Student id : student3\n",
      "Student info: \n",
      "{'name': 'Sam', 'age': 23, 'grade': {'C': 'A', 'Jave': 'O', 'Python': 'A'}}\n",
      "\n",
      "\n",
      "name - Sam\n",
      "age - 23\n",
      "grade - {'C': 'A', 'Jave': 'O', 'Python': 'A'}\n",
      " Subject : C --> Grade: A\n",
      " Subject : Jave --> Grade: O\n",
      " Subject : Python --> Grade: A\n"
     ]
    }
   ],
   "source": [
    "# Iterating over nested dict\n",
    "for student_id, student_info in students.items():\n",
    "  print(f\" Student id : {student_id}\\nStudent info: \\n{student_info}\")\n",
    "  print(\"\\n\")\n",
    "  for key,value in student_info.items():\n",
    "    print(f\"{key} - {value}\")\n",
    "  for subject, grade in student_info[\"grade\"].items():\n",
    "    print(f\" Subject : {subject} --> Grade: {grade}\")\n"
   ]
  },
  {
   "cell_type": "code",
   "execution_count": 28,
   "metadata": {},
   "outputs": [
    {
     "data": {
      "text/plain": [
       "{0: 0, 1: 1, 2: 4, 3: 9, 4: 16, 5: 25, 6: 36, 7: 49, 8: 64, 9: 81}"
      ]
     },
     "execution_count": 28,
     "metadata": {},
     "output_type": "execute_result"
    }
   ],
   "source": [
    "# Dict comphrehension\n",
    "squares = {x:x**2 for x in range(10)}\n",
    "squares"
   ]
  },
  {
   "cell_type": "code",
   "execution_count": 29,
   "metadata": {},
   "outputs": [
    {
     "data": {
      "text/plain": [
       "{0: 0, 2: 4, 4: 16, 6: 36, 8: 64}"
      ]
     },
     "execution_count": 29,
     "metadata": {},
     "output_type": "execute_result"
    }
   ],
   "source": [
    "# With conditions\n",
    "even_squares = {x:x**2 for x in range(10) if x%2==0}\n",
    "even_squares"
   ]
  },
  {
   "cell_type": "code",
   "execution_count": 30,
   "metadata": {},
   "outputs": [
    {
     "name": "stdout",
     "output_type": "stream",
     "text": [
      "{1: 1, 2: 10, 3: 2, 4: 8, 5: 2, 6: 2, 9: 1}\n"
     ]
    }
   ],
   "source": [
    "# Count the frequency of elements in a list\n",
    "\n",
    "numbers = [1,2,3,2,3,4,4,4,5,6,2,2,4,4,4,4,4,5,6,9,2,2,2,2,2,2]\n",
    "frequency ={}\n",
    "for number in numbers:\n",
    "  if number in frequency:\n",
    "    frequency[number] += 1\n",
    "  else:\n",
    "    frequency[number] = 1\n",
    "\n",
    "print(frequency)"
   ]
  },
  {
   "cell_type": "code",
   "execution_count": 31,
   "metadata": {},
   "outputs": [
    {
     "name": "stdout",
     "output_type": "stream",
     "text": [
      "{'a': 1, 'b': 3, 'c': 4}\n"
     ]
    }
   ],
   "source": [
    "# Merge two dict into one\n",
    "dict1 = {\n",
    "  \"a\":1,\n",
    "  \"b\":2\n",
    "}\n",
    "dict2 = {\n",
    "  \"b\":3,\n",
    "  \"c\":4\n",
    "}\n",
    "\n",
    "merged_dict = {**dict1,**dict2}\n",
    "print(merged_dict)"
   ]
  },
  {
   "cell_type": "code",
   "execution_count": 32,
   "metadata": {},
   "outputs": [
    {
     "name": "stdout",
     "output_type": "stream",
     "text": [
      "[1, 2, 3, 3, 4, 5]\n"
     ]
    }
   ],
   "source": [
    "#Merging lists\n",
    "lst1=[1,2,3]\n",
    "lst2=[3,4,5]\n",
    "merged_lst = [*lst1,*lst2]\n",
    "print(merged_lst)"
   ]
  },
  {
   "cell_type": "code",
   "execution_count": 33,
   "metadata": {},
   "outputs": [
    {
     "name": "stdout",
     "output_type": "stream",
     "text": [
      "[[1, 2, 3], [3, 4, 5]]\n"
     ]
    }
   ],
   "source": [
    "merged_lst1 = [lst1,lst2]\n",
    "print(merged_lst1)"
   ]
  },
  {
   "cell_type": "code",
   "execution_count": 34,
   "metadata": {},
   "outputs": [
    {
     "name": "stdout",
     "output_type": "stream",
     "text": [
      "{'a': 1, 'b': 3, 'c': 4}\n"
     ]
    }
   ],
   "source": [
    "print(merged_dict)"
   ]
  },
  {
   "cell_type": "markdown",
   "metadata": {},
   "source": [
    "### Real World use cases of lists\n",
    "#### 1. Manage a To Do list\n"
   ]
  },
  {
   "cell_type": "code",
   "execution_count": 35,
   "metadata": {},
   "outputs": [
    {
     "name": "stdout",
     "output_type": "stream",
     "text": [
      "Don't forget to pay the bills.\n",
      "Remaining tasks\n",
      "1 : Buy Groceries\n",
      "2 : Pay bills\n",
      "3 : Shhedule Meeting\n",
      "4 : Go for a run\n"
     ]
    }
   ],
   "source": [
    " # Create a To Do list to keep track of tasks\n",
    "to_do_list = [\"Buy Groceries\", \"Clean the house\", \"Pay bills\"]\n",
    "\n",
    "# Adding task to the list\n",
    "\n",
    "to_do_list.append(\"Shhedule Meeting\")\n",
    "to_do_list.append(\"Go for a run\")\n",
    "\n",
    "# Removing task from the list\n",
    "\n",
    "to_do_list.remove(\"Clean the house\")\n",
    "\n",
    "# Checking if the task is in the list\n",
    "if \"Pay bills\" in to_do_list:\n",
    "  print(\"Don't forget to pay the bills.\")\n",
    "\n",
    "# Check the remaining tasks\n",
    "print(f\"Remaining tasks\")\n",
    "task_count =1\n",
    "for task in to_do_list:\n",
    "  print(f\"{task_count} : {task}\")\n",
    "  task_count+=1"
   ]
  },
  {
   "cell_type": "markdown",
   "metadata": {},
   "source": [
    "#### 2. Organizing student grades"
   ]
  },
  {
   "cell_type": "code",
   "execution_count": 36,
   "metadata": {},
   "outputs": [
    {
     "name": "stdout",
     "output_type": "stream",
     "text": [
      "Average using mathemetical operations 87.0\n",
      "Average using np.mean(): 87.0\n",
      "Highest grade : 95, Lowest grade : 72\n"
     ]
    }
   ],
   "source": [
    "import numpy as np\n",
    "# Create a list to store and calculate average grades for students\n",
    "grades = [85, 92, 72, 90, 88]\n",
    "\n",
    "# Adding a new grade \n",
    "grades.append(95)\n",
    "\n",
    "# Calculating the average grade \n",
    "average_grade = sum(grades)/len(grades)\n",
    "print(f\"Average using mathemetical operations {average_grade}\")\n",
    "# Or\n",
    "average_grades = np.mean(grades)\n",
    "\n",
    "print(f\"Average using np.mean(): {average_grade}\")\n",
    "\n",
    "# Find the highest and lowest grade\n",
    "print(f\"Highest grade : {max(grades)}, Lowest grade : {min(grades)}\")"
   ]
  },
  {
   "cell_type": "markdown",
   "metadata": {},
   "source": [
    "#### 3. Managing an inventory items"
   ]
  },
  {
   "cell_type": "code",
   "execution_count": 37,
   "metadata": {},
   "outputs": [
    {
     "name": "stdout",
     "output_type": "stream",
     "text": [
      "Current inventory items : ['Apple', 'Bananas', 'Oranges', 'Grapes']\n",
      "Current inventory items : ['Apple', 'Bananas', 'Oranges', 'Grapes', 'Strawberries']\n",
      "Current inventory items : ['Apple', 'Oranges', 'Grapes', 'Strawberries']\n",
      "Bananas is not in the inventory\n",
      "Oranges is in the Inventory\n",
      "Inventory items are:\n",
      "    1 : Apple\n",
      "    2 : Oranges\n",
      "    3 : Grapes\n",
      "    4 : Strawberries\n"
     ]
    }
   ],
   "source": [
    "# Make a list of inventory items\n",
    "inventory_items = [\"Apple\", \"Bananas\", \"Oranges\", \"Grapes\"]\n",
    "print(f\"Current inventory items : {inventory_items}\")\n",
    "\n",
    "# Add new item to the inventory_item's list\n",
    "inventory_items.append(\"Strawberries\")\n",
    "print(f\"Current inventory items : {inventory_items}\")\n",
    "\n",
    "# Remove an item from the list\n",
    "inventory_items.remove(\"Bananas\")\n",
    "print(f\"Current inventory items : {inventory_items}\")\n",
    "\n",
    "# Checking an item is in the list or not\n",
    "item1 = \"Bananas\"\n",
    "item2 = 'Oranges'\n",
    " \n",
    "if item1 in inventory_items:\n",
    "  print(f\"{item1} is in the Inventory\")\n",
    "  print(f\"{item2} is in the Inventory\")\n",
    "  print(f\"{item2} is not in the inventory\")\n",
    "else:\n",
    "  print(f\"{item1} is not in the inventory\")\n",
    "\n",
    "if item2 in inventory_items:\n",
    "  print(f\"{item2} is in the Inventory\")\n",
    "\n",
    "else:\n",
    "  print(f\"{item2} is not in the inventory\")\n",
    "\n",
    "# Check the inventory\n",
    "print(\"Inventory items are:\")\n",
    "item_count=1\n",
    "for item in inventory_items:\n",
    "  print(f\"    {item_count} : {item}\")\n",
    "  item_count+=1"
   ]
  },
  {
   "cell_type": "markdown",
   "metadata": {},
   "source": [
    ">### Functions in Python\n",
    ">***What we're covering :***\n",
    " 1. Introduction to function\n",
    " 2. Defining function\n",
    " 3. Calling function\n",
    " 4. Function Parameters\n",
    " 5. Default parameters\n",
    " 6. Valiable-length Arguments varArgs\n",
    " 7. Return statement\n",
    "\n",
    ">**1. Introduction to function**\n",
    "\n",
    "* A function is a block of code that perform a specific operation.\n",
    "* It helps to organizing codes and improve readability\n",
    "\n",
    "> Basic Syntax of a function:\n",
    "\n",
    "**Note:** Press `ctrl + shift + space` To access the `Docstring` of a function.\n",
    "<pre>\n",
    "def function_name(parameters):\n",
    "  \"\"\"\n",
    "  >Docstring : Describe the function.\n",
    "  \"\"\"\n",
    "  >(Function body : for a specific operation)\n",
    "  >return statement/expression/variables...\n",
    "<pre/>\n"
   ]
  },
  {
   "cell_type": "markdown",
   "metadata": {},
   "source": [
    ">**Why do we require functions :**\n",
    "* For `Reusability` of a block of code. "
   ]
  },
  {
   "cell_type": "code",
   "execution_count": 38,
   "metadata": {},
   "outputs": [
    {
     "name": "stdout",
     "output_type": "stream",
     "text": [
      "The number is even\n",
      "The number id odd\n"
     ]
    }
   ],
   "source": [
    "# without function\n",
    "num = 24\n",
    "if num % 2 == 0:\n",
    "  print(\"The number is even\")\n",
    "else:\n",
    "  print(\"The number id odd\")\n",
    "num = 21\n",
    "if num % 2 == 0:\n",
    "  print(\"The number is even\")\n",
    "else:\n",
    "  print(\"The number id odd\")"
   ]
  },
  {
   "cell_type": "code",
   "execution_count": 39,
   "metadata": {},
   "outputs": [
    {
     "name": "stdout",
     "output_type": "stream",
     "text": [
      "The number is even.\n",
      "The number is odd\n"
     ]
    }
   ],
   "source": [
    "# Using function\n",
    "def even_or_odd(num:int)->None:\n",
    "  \"\"\"\n",
    "  This function will find a number is even or odd.\n",
    "  parameters:\n",
    "  num : An integer to check the number is even or odd\n",
    "  return:  None\n",
    "\n",
    "  \"\"\"\n",
    "  if num % 2 == 0:\n",
    "    print(\"The number is even.\")\n",
    "  else:\n",
    "    print(\"The number is odd\")\n",
    "    \n",
    "# Calling function\n",
    "even_or_odd(24)\n",
    "even_or_odd(21)"
   ]
  },
  {
   "cell_type": "code",
   "execution_count": 40,
   "metadata": {},
   "outputs": [
    {
     "name": "stdout",
     "output_type": "stream",
     "text": [
      "6\n"
     ]
    }
   ],
   "source": [
    "# Functions with multiple parameters\n",
    "def add(a, b):\n",
    "  return a+b\n",
    "\n",
    "result =add(2,4)\n",
    "print(result)"
   ]
  },
  {
   "cell_type": "code",
   "execution_count": 41,
   "metadata": {},
   "outputs": [
    {
     "name": "stdout",
     "output_type": "stream",
     "text": [
      "Hello! Samitinjay.\n"
     ]
    }
   ],
   "source": [
    "# Default parameter\n",
    "def greet(name = \"Guest\"):\n",
    "  print(f\"Hello! {name}.\")\n",
    "\n",
    "greet(\"Samitinjay\")"
   ]
  },
  {
   "cell_type": "code",
   "execution_count": 42,
   "metadata": {},
   "outputs": [
    {
     "name": "stdout",
     "output_type": "stream",
     "text": [
      "Hello! Guest.\n"
     ]
    }
   ],
   "source": [
    "greet()"
   ]
  },
  {
   "cell_type": "code",
   "execution_count": 43,
   "metadata": {},
   "outputs": [
    {
     "name": "stdout",
     "output_type": "stream",
     "text": [
      "1  2  3  4  5  6  7  1  12  2  2  "
     ]
    }
   ],
   "source": [
    "# Valiable length arguments\n",
    "# Positional and keywords arguments\n",
    "def print_numbers(*args):\n",
    "  for num in args:\n",
    "    print(num,end=\"  \")\n",
    "\n",
    "print_numbers(1,2,3,4,5,6,7,1,12,2,2)\n",
    "\n"
   ]
  },
  {
   "cell_type": "code",
   "execution_count": 44,
   "metadata": {},
   "outputs": [
    {
     "name": "stdout",
     "output_type": "stream",
     "text": [
      "Name : Samitinjay\n",
      "Age : 25\n",
      "Country : India\n"
     ]
    }
   ],
   "source": [
    "# keywords arguments\n",
    "def print_details(**kwargs):\n",
    "  for key, value in kwargs.items():\n",
    "    print(f\"{key} : {value}\")\n",
    "\n",
    "print_details(Name=\"Samitinjay\", Age =25, Country=\"India\")\n"
   ]
  },
  {
   "cell_type": "code",
   "execution_count": 45,
   "metadata": {},
   "outputs": [
    {
     "name": "stdout",
     "output_type": "stream",
     "text": [
      "1 2 3 4 \n",
      "name : samit  age : 25  country : India  "
     ]
    }
   ],
   "source": [
    "def print_details(*args, **kwargs):\n",
    "  for val in args:\n",
    "    print(val, end=\" \")\n",
    "  print()\n",
    "  for key, value in kwargs.items():\n",
    "    print(f\"{key} : {value}\", end=\"  \")\n",
    "\n",
    "print_details(1,2,3,4,name=\"samit\",age = 25, country = \"India\")"
   ]
  },
  {
   "cell_type": "code",
   "execution_count": 46,
   "metadata": {},
   "outputs": [
    {
     "name": "stdout",
     "output_type": "stream",
     "text": [
      "(2, 5, 10)\n"
     ]
    }
   ],
   "source": [
    "# Return statement/parameters\n",
    "def multiply(a,b):\n",
    "  \"\"\"\n",
    "  Returns: value of a and b, a*b\n",
    "  \"\"\"\n",
    "  return a, b, a*b\n",
    "result = multiply(2, 5)\n",
    "print(result)"
   ]
  },
  {
   "cell_type": "markdown",
   "metadata": {},
   "source": [
    "### **Examples of functions**\n"
   ]
  },
  {
   "cell_type": "markdown",
   "metadata": {},
   "source": [
    "**Example 1. Temperature conversion**"
   ]
  },
  {
   "cell_type": "code",
   "execution_count": 47,
   "metadata": {},
   "outputs": [
    {
     "name": "stdout",
     "output_type": "stream",
     "text": [
      "77.0\n",
      "25.0\n"
     ]
    }
   ],
   "source": [
    "def convert_temperature(temp,unit):# unit -> 'c' or 'f'\n",
    "  \"\"\"\n",
    "  Convert temperature between celcius and fahrenheit.\n",
    "  \"\"\"\n",
    "  unit = str.lower(unit)\n",
    "  if unit == \"c\":\n",
    "    return temp * (9/5) +32\n",
    "  elif unit == \"f\":\n",
    "    return (temp - 32) * 5/9\n",
    "  else:\n",
    "    return None\n",
    "print(convert_temperature(25,\"c\"))\n",
    "print(convert_temperature(77,\"f\"))"
   ]
  },
  {
   "cell_type": "markdown",
   "metadata": {},
   "source": [
    "**Example 2. Password strength checker**"
   ]
  },
  {
   "cell_type": "code",
   "execution_count": 48,
   "metadata": {},
   "outputs": [
    {
     "name": "stdout",
     "output_type": "stream",
     "text": [
      "True\n",
      "False\n"
     ]
    }
   ],
   "source": [
    "def is_strong_password(password):\n",
    "  \"\"\"\n",
    "  Check if the password is strong or not\n",
    "  \"\"\"\n",
    "  if len(password) < 8:\n",
    "    return False\n",
    "  if not any(char.isdigit() for char in password):\n",
    "    return False\n",
    "  if not any(char.islower() for char in password):\n",
    "    return False\n",
    "  if not any(char.isupper() for char in password):\n",
    "    return False\n",
    "  if not any(char in '!@#$%^&*()_+.' for char in password):\n",
    "    return False\n",
    "  return True\n",
    "\n",
    "# Calling the function\n",
    "print(is_strong_password(\"SamitinjayMishra@123\"))\n",
    "print(is_strong_password(\"WeekPass\"))"
   ]
  },
  {
   "cell_type": "markdown",
   "metadata": {},
   "source": [
    "**Example 3. Calculate the total cost of item in a shoping cart**"
   ]
  },
  {
   "cell_type": "code",
   "execution_count": 49,
   "metadata": {},
   "outputs": [
    {
     "name": "stdout",
     "output_type": "stream",
     "text": [
      "5.90\n"
     ]
    }
   ],
   "source": [
    "def calculate_total_cost(cart):\n",
    "  total_cost = 0\n",
    "\n",
    "  for item in cart:\n",
    "    total_cost+=item[\"price\"]*item[\"quantity\"]\n",
    "  return total_cost\n",
    "\n",
    "cart = [\n",
    "  {'name' : \"apple\", \"price\":0.5,\"quantity\":4},\n",
    "  {'name' : \"banana\", \"price\":0.3,\"quantity\":6},\n",
    "  {'name' : \"orange\", \"price\":0.7,\"quantity\":3}\n",
    "]\n",
    "# Calling the function\n",
    "print(f\"{(calculate_total_cost(cart)):.2f}\")"
   ]
  },
  {
   "cell_type": "markdown",
   "metadata": {},
   "source": [
    "**Example 4. Check if a string is palindrom**"
   ]
  },
  {
   "cell_type": "code",
   "execution_count": 50,
   "metadata": {},
   "outputs": [
    {
     "name": "stdout",
     "output_type": "stream",
     "text": [
      "False\n",
      "True\n"
     ]
    }
   ],
   "source": [
    "def check_palindrom(text):\n",
    "  rev = text[::-1]\n",
    "  if rev == text: return True\n",
    "  else: return False\n",
    "# Cak=lling the function\n",
    "print(check_palindrom(\"Sam\"))\n",
    "print(check_palindrom(\"mam\"))"
   ]
  },
  {
   "cell_type": "markdown",
   "metadata": {},
   "source": [
    "**Example 5. Calculate the factorial of a number using recursion**"
   ]
  },
  {
   "cell_type": "code",
   "execution_count": 51,
   "metadata": {},
   "outputs": [
    {
     "name": "stdout",
     "output_type": "stream",
     "text": [
      "120\n",
      "720\n"
     ]
    }
   ],
   "source": [
    "def factorial(num:int)->int:\n",
    "  if num == 0:\n",
    "    return 1\n",
    "  else:\n",
    "    return num * factorial(num - 1)\n",
    "  \n",
    "print(factorial(5))\n",
    "print(factorial(6))"
   ]
  },
  {
   "cell_type": "markdown",
   "metadata": {},
   "source": [
    "**Example 6. A function to read a file and count the frequency of words**"
   ]
  },
  {
   "cell_type": "code",
   "execution_count": 52,
   "metadata": {},
   "outputs": [
    {
     "name": "stdout",
     "output_type": "stream",
     "text": [
      "{'hello': 1, 'world': 1, 'how': 1, 'are': 1, 'you': 1, 'samitinjay': 2, 'mishra': 2, 'my': 1, 'name': 1, 'is': 1}\n"
     ]
    }
   ],
   "source": [
    "def count_frequency_of_word_in_a_file(file_path):\n",
    "  word_count={}\n",
    "  with open(file_path, 'r') as file:\n",
    "    for line in file:\n",
    "      words = line.split()\n",
    "      for word in words:\n",
    "        word = word.lower().strip(\"!.,\\'\\\"?)()[]{}\")\n",
    "        word_count[word]=word_count.get(word,0)+1\n",
    "  return word_count\n",
    "file_path = \"sample.txt\"\n",
    "print(count_frequency_of_word_in_a_file(file_path=file_path))"
   ]
  },
  {
   "cell_type": "markdown",
   "metadata": {},
   "source": [
    "\n",
    "**Example 7. Validate Email Address**"
   ]
  },
  {
   "cell_type": "code",
   "execution_count": 53,
   "metadata": {},
   "outputs": [
    {
     "name": "stdout",
     "output_type": "stream",
     "text": [
      "True\n",
      "False\n"
     ]
    }
   ],
   "source": [
    "import re\n",
    "def is_valid_email(email):\n",
    "  pattern = r\"^[a-zA-Z0-9_.+-]+@[a-zA-Z0-9]+\\.[a-zA-Z0-9-.]+$\"\n",
    "  return re.match(pattern,email) is not None\n",
    "\n",
    "print(is_valid_email(\"samitinjay1999@gmail.com\"))\n",
    "print(is_valid_email(\"samitinjaymishra\"))"
   ]
  },
  {
   "cell_type": "markdown",
   "metadata": {},
   "source": [
    "### Lambda function in python\n",
    "\n",
    "* Lambda function are small anonymous function defined using lambda keyword.\n",
    "\n",
    ">**Note:** Anonymous function are function without a name.\n",
    "* They can have any number if arguments but only one expression.\n",
    "* Commonly used for sort operations or as an arguments to higher-order functions.\n",
    "<pre>\n",
    "Syntax:\n",
    "lambda arguments: expression\n",
    "<pre/>"
   ]
  },
  {
   "cell_type": "code",
   "execution_count": 54,
   "metadata": {},
   "outputs": [
    {
     "name": "stdout",
     "output_type": "stream",
     "text": [
      "5\n",
      "<class 'function'>\n",
      "5\n",
      "True\n",
      "True\n",
      "39\n",
      "39\n"
     ]
    }
   ],
   "source": [
    "def addition(a,b):\n",
    "  return a+b\n",
    "\n",
    "print(addition(2,3))\n",
    "\n",
    "addition = lambda a,b:a+b\n",
    "print(type(addition))\n",
    "print(addition(2,3))\n",
    "\n",
    "def even(num):\n",
    "  if num%2==0:\n",
    "    return True\n",
    "  \n",
    "print(even(24))\n",
    "\n",
    "even1 = lambda num: num%2==0\n",
    "print(even1(12))\n",
    "\n",
    "def addition(x,y,z):return x+y+z\n",
    "\n",
    "print(addition(12,13,14))\n",
    "\n",
    "addition1 = lambda x,y,z : x+y+z\n",
    "print(addition1(12,13,14))\n"
   ]
  },
  {
   "cell_type": "code",
   "execution_count": 55,
   "metadata": {},
   "outputs": [
    {
     "name": "stdout",
     "output_type": "stream",
     "text": [
      "4\n"
     ]
    },
    {
     "data": {
      "text/plain": [
       "[1, 4, 9, 16, 25, 36]"
      ]
     },
     "execution_count": 55,
     "metadata": {},
     "output_type": "execute_result"
    }
   ],
   "source": [
    "# map()\n",
    "numbers = [1,2,3,4,5,6]\n",
    "def square(num):\n",
    "  return num**2\n",
    "\n",
    "print(square(2))\n",
    "\n",
    "# We need a loop to make a square of each element in a list \n",
    "# Using map() applies a function to all the item of a collection\n",
    "\n",
    "list(map(lambda x:x**2,numbers))"
   ]
  },
  {
   "cell_type": "markdown",
   "metadata": {},
   "source": [
    "#### Map function in Python\n",
    "\n",
    "* The map() applies a given function to all the items in an iterable (list,tuple etc...) and returns a map object (in iterator).\n",
    "* This is particularly useful for trancforming data in a list comprehentively."
   ]
  },
  {
   "cell_type": "code",
   "execution_count": 56,
   "metadata": {},
   "outputs": [
    {
     "name": "stdout",
     "output_type": "stream",
     "text": [
      "[1, 4, 9, 16, 25, 36, 49]\n",
      "[1, 4, 9, 16, 25, 36, 49]\n"
     ]
    }
   ],
   "source": [
    "l1 = [1, 2, 3, 4, 5, 6, 7]\n",
    "def square(num):\n",
    "    return num**2\n",
    "\n",
    "# Using loops\n",
    "square_list =[]\n",
    "for i in l1:square_list.append(square(i))\n",
    "\n",
    "print(square_list)\n",
    "\n",
    "# Wsing map()\n",
    "print(list(map(square, l1)))\n",
    "\n"
   ]
  },
  {
   "cell_type": "code",
   "execution_count": 57,
   "metadata": {},
   "outputs": [
    {
     "name": "stdout",
     "output_type": "stream",
     "text": [
      "[1, 4, 9, 16, 25, 36, 49, 64, 81, 100]\n"
     ]
    }
   ],
   "source": [
    "# Lambda function with map()\n",
    "numbers =[1,2,3,4,5,6,7,8,9,10]\n",
    "print(list(map(lambda x:x**2,numbers)))"
   ]
  },
  {
   "cell_type": "code",
   "execution_count": 58,
   "metadata": {},
   "outputs": [
    {
     "name": "stdout",
     "output_type": "stream",
     "text": [
      "[5, 7, 9]\n"
     ]
    }
   ],
   "source": [
    "# Can we map multiple iterables\n",
    "numbers1 = [1,2,3] \n",
    "numbers2 = [4,5,6]\n",
    "added_numbers = list(map(lambda x,y:x+y,numbers1,numbers2))\n",
    "print(added_numbers)"
   ]
  },
  {
   "cell_type": "code",
   "execution_count": 59,
   "metadata": {},
   "outputs": [
    {
     "name": "stdout",
     "output_type": "stream",
     "text": [
      "[1, 2, 3, 4, 5]\n"
     ]
    }
   ],
   "source": [
    "# Use map to convert list of string to int\n",
    "str_numbers =['1','2','3','4','5']\n",
    "int_numbers = list(map(int,str_numbers))\n",
    "print(int_numbers)"
   ]
  },
  {
   "cell_type": "code",
   "execution_count": 60,
   "metadata": {},
   "outputs": [
    {
     "name": "stdout",
     "output_type": "stream",
     "text": [
      "['APPLE', 'BANABA', 'CHERRY']\n"
     ]
    }
   ],
   "source": [
    "\n",
    "words =[\"apple\",\"banaba\",\"cherry\"]\n",
    "upper_words = list(map(str.upper,words))\n",
    "print(upper_words)"
   ]
  },
  {
   "cell_type": "code",
   "execution_count": 61,
   "metadata": {},
   "outputs": [
    {
     "name": "stdout",
     "output_type": "stream",
     "text": [
      "time to make a list :0.04932 \n",
      "[0, 1, 2, 3, 4]\n",
      "time using for loop :0.19947 \n",
      "[1, 2, 3, 4, 5]\n",
      "time using map :0.18391 \n",
      "[1, 2, 3, 4, 5]\n",
      "time using list comprehension :0.08267 \n",
      "[1, 2, 3, 4, 5]\n"
     ]
    }
   ],
   "source": [
    "from time import time\n",
    "\n",
    "# Making a list usuing list comprehension \n",
    "start_time = time()\n",
    "list3 = [num for num in range(1000000)]\n",
    "end_time = time()\n",
    "print(f\"time to make a list :{(end_time-start_time):.5f} \")\n",
    "print(list3[:5])\n",
    "\n",
    "# Using for loop\n",
    "start_time = time()\n",
    "add_1_to_each_element=[]\n",
    "for num in list3:\n",
    "  add_1_to_each_element.append(num+1)\n",
    "end_time = time()\n",
    "print(f\"time using for loop :{(end_time-start_time):.5f} \")\n",
    "print(add_1_to_each_element[:5])\n",
    "\n",
    "# Using map() with lambda function\n",
    "start_time = time()\n",
    "add_1_to_each_element = list(map(lambda x:x+1,list3))\n",
    "end_time = time()\n",
    "print(f\"time using map :{(end_time-start_time):.5f} \")\n",
    "print(add_1_to_each_element[:5])\n",
    "\n",
    "# Using list comprehension\n",
    "start_time = time()\n",
    "add_1_to_each_element = [num + 1 for num in list3]\n",
    "end_time = time()\n",
    "print(f\"time using list comprehension :{(end_time-start_time):.5f} \")\n",
    "print(add_1_to_each_element[:5])\n"
   ]
  },
  {
   "cell_type": "code",
   "execution_count": 62,
   "metadata": {},
   "outputs": [
    {
     "data": {
      "text/plain": [
       "['samitinjay', 'Lambu', 'Hambe Bamba Bamba']"
      ]
     },
     "execution_count": 62,
     "metadata": {},
     "output_type": "execute_result"
    }
   ],
   "source": [
    "def get_name(person):\n",
    "  return person[\"name\"]\n",
    "\n",
    "people =[\n",
    "  {\"name\":\"samitinjay\", \"age\":25},\n",
    "  {\"name\":\"Lambu\", \"age\":22},\n",
    "  {\"name\":\"Hambe Bamba Bamba\", \"age\":21}\n",
    "]\n",
    "list(map(get_name,people))"
   ]
  },
  {
   "cell_type": "markdown",
   "metadata": {},
   "source": [
    "### Filter function in python\n",
    "\n",
    "* It is used to filter out  elements from an iterable (list, tuple etc...) based on a condition. "
   ]
  },
  {
   "cell_type": "code",
   "execution_count": 63,
   "metadata": {},
   "outputs": [
    {
     "name": "stdout",
     "output_type": "stream",
     "text": [
      "[2, 4, 6, 8, 10, 12]\n"
     ]
    }
   ],
   "source": [
    "def even(num):\n",
    "  if num%2==0:\n",
    "    return True\n",
    "lst = [1,2,3,4,5,6,7,8,9,10,11,12]\n",
    "print(list(filter(even,lst)))"
   ]
  },
  {
   "cell_type": "code",
   "execution_count": 64,
   "metadata": {},
   "outputs": [
    {
     "name": "stdout",
     "output_type": "stream",
     "text": [
      "[2, 4, 6, 8, 10, 12]\n"
     ]
    }
   ],
   "source": [
    "# filter with lambda function\n",
    "lst = [1,2,3,4,5,6,7,8,9,10,11,12]\n",
    "print(list(filter(lambda x:x%2==0,lst)))"
   ]
  },
  {
   "cell_type": "code",
   "execution_count": 65,
   "metadata": {},
   "outputs": [
    {
     "name": "stdout",
     "output_type": "stream",
     "text": [
      "[6, 8, 10, 12]\n"
     ]
    }
   ],
   "source": [
    "# filter with lambda function and multipla conditions\n",
    "lst = [1,2,3,4,5,6,7,8,9,10,11,12]\n",
    "\n",
    "even_and_grater_than_five = list(filter(lambda x: x%2==0 and x>5, lst))\n",
    "print(even_and_grater_than_five)\n"
   ]
  },
  {
   "cell_type": "code",
   "execution_count": 66,
   "metadata": {},
   "outputs": [
    {
     "name": "stdout",
     "output_type": "stream",
     "text": [
      "[{'name': 'Lambu', 'age': 32}, {'name': 'Hambe Bamba Bamba', 'age': 61}]\n",
      "[{'name': 'Lambu', 'age': 32}, {'name': 'Hambe Bamba Bamba', 'age': 61}]\n"
     ]
    }
   ],
   "source": [
    "# Filter() to check if age is grater than 25 in dictonary\n",
    "people =[\n",
    "  {\"name\":\"samitinjay\", \"age\":25},\n",
    "  {\"name\":\"Lambu\", \"age\":32},\n",
    "  {\"name\":\"Hambe Bamba Bamba\", \"age\":61},\n",
    "  {\"name\":\"LOmbu\", \"age\":21},\n",
    "  {\"name\":\"dambu\", \"age\":20},\n",
    "]\n",
    "\n",
    "# Using function\n",
    "def age_grater_than_25(person):\n",
    "  return person['age']>25\n",
    "\n",
    "print(list(filter(age_grater_than_25,people)))\n",
    "\n",
    "# Using lambda function\n",
    "print(list(filter(lambda person:person['age']>25,people)))"
   ]
  },
  {
   "cell_type": "code",
   "execution_count": 67,
   "metadata": {},
   "outputs": [],
   "source": [
    "from package import math"
   ]
  },
  {
   "cell_type": "code",
   "execution_count": 68,
   "metadata": {},
   "outputs": [
    {
     "data": {
      "text/plain": [
       "5"
      ]
     },
     "execution_count": 68,
     "metadata": {},
     "output_type": "execute_result"
    }
   ],
   "source": [
    "math.addition(2,3)"
   ]
  },
  {
   "cell_type": "code",
   "execution_count": 69,
   "metadata": {},
   "outputs": [
    {
     "data": {
      "text/plain": [
       "6"
      ]
     },
     "execution_count": 69,
     "metadata": {},
     "output_type": "execute_result"
    }
   ],
   "source": [
    "from package.subpackage import basic_math as bm\n",
    "\n",
    "bm.multiply(2,3)\n",
    "\n"
   ]
  },
  {
   "cell_type": "markdown",
   "metadata": {},
   "source": [
    "### In-built Libraries in python"
   ]
  },
  {
   "cell_type": "code",
   "execution_count": 70,
   "metadata": {},
   "outputs": [
    {
     "data": {
      "text/plain": [
       "array('i', [1, 2, 3, 4])"
      ]
     },
     "execution_count": 70,
     "metadata": {},
     "output_type": "execute_result"
    }
   ],
   "source": [
    "import array \n",
    "arr = array.array(\"i\",[1,2,3,4])\n",
    "arr"
   ]
  },
  {
   "cell_type": "code",
   "execution_count": 71,
   "metadata": {},
   "outputs": [
    {
     "name": "stdout",
     "output_type": "stream",
     "text": [
      "2\n",
      "2\n",
      "1\n",
      "0\n"
     ]
    }
   ],
   "source": [
    "import math\n",
    "print(int(math.sqrt(4)))\n",
    "import random\n",
    "random.seed(42) # Generates same random number each time the code run\n",
    "print(int(random.randint(1,10)))\n",
    "print(int(random.randrange(1,10)))\n",
    "print(int(random.random()))\n"
   ]
  },
  {
   "cell_type": "code",
   "execution_count": 72,
   "metadata": {},
   "outputs": [
    {
     "name": "stdout",
     "output_type": "stream",
     "text": [
      "c:\\Users\\Pavilion\\OneDrive\\Desktop\\UdemyMLCourse\\1-Python-Basics\n"
     ]
    }
   ],
   "source": [
    "import os\n",
    "print(os.getcwd())"
   ]
  },
  {
   "cell_type": "code",
   "execution_count": 73,
   "metadata": {},
   "outputs": [
    {
     "ename": "FileExistsError",
     "evalue": "[WinError 183] Cannot create a file when that file already exists: 'test-dir'",
     "output_type": "error",
     "traceback": [
      "\u001b[1;31m---------------------------------------------------------------------------\u001b[0m",
      "\u001b[1;31mFileExistsError\u001b[0m                           Traceback (most recent call last)",
      "Cell \u001b[1;32mIn[73], line 1\u001b[0m\n\u001b[1;32m----> 1\u001b[0m \u001b[43mos\u001b[49m\u001b[38;5;241;43m.\u001b[39;49m\u001b[43mmkdir\u001b[49m\u001b[43m(\u001b[49m\u001b[38;5;124;43m'\u001b[39;49m\u001b[38;5;124;43mtest-dir\u001b[39;49m\u001b[38;5;124;43m'\u001b[39;49m\u001b[43m)\u001b[49m\n",
      "\u001b[1;31mFileExistsError\u001b[0m: [WinError 183] Cannot create a file when that file already exists: 'test-dir'"
     ]
    }
   ],
   "source": [
    "os.mkdir('test-dir')"
   ]
  },
  {
   "cell_type": "code",
   "execution_count": null,
   "metadata": {},
   "outputs": [
    {
     "data": {
      "text/plain": [
       "'destination.txt'"
      ]
     },
     "execution_count": 149,
     "metadata": {},
     "output_type": "execute_result"
    }
   ],
   "source": [
    "# High level operations on file and collection od files \n",
    "import shutil\n",
    "shutil.copyfile('source.txt','destination.txt')"
   ]
  },
  {
   "cell_type": "markdown",
   "metadata": {},
   "source": [
    "### Data Serializtion"
   ]
  },
  {
   "cell_type": "code",
   "execution_count": null,
   "metadata": {},
   "outputs": [],
   "source": [
    "import json\n",
    "data = {'name':'Samitinjay',\n",
    "        'age':25}"
   ]
  },
  {
   "cell_type": "code",
   "execution_count": null,
   "metadata": {},
   "outputs": [
    {
     "name": "stdout",
     "output_type": "stream",
     "text": [
      "{\"name\": \"Samitinjay\", \"age\": 25} <class 'str'>\n"
     ]
    }
   ],
   "source": [
    "json_str = json.dumps(data)\n",
    "print(json_str,type(json_str))"
   ]
  },
  {
   "cell_type": "code",
   "execution_count": null,
   "metadata": {},
   "outputs": [
    {
     "name": "stdout",
     "output_type": "stream",
     "text": [
      "{'name': 'Samitinjay', 'age': 25} <class 'dict'>\n"
     ]
    }
   ],
   "source": [
    "parsed_data = json.loads(json_str)\n",
    "print(parsed_data,type(parsed_data))"
   ]
  },
  {
   "cell_type": "code",
   "execution_count": null,
   "metadata": {},
   "outputs": [
    {
     "name": "stdout",
     "output_type": "stream",
     "text": [
      "['name', 'age']\n",
      "['Samitinjay', '25']\n"
     ]
    }
   ],
   "source": [
    "# csv\n",
    "import csv\n",
    "with open('example.csv',mode='w',newline='') as file:\n",
    "  writer = csv.writer(file)\n",
    "  writer.writerow(['name','age'])\n",
    "  writer.writerow(['Samitinjay',25])\n",
    "\n",
    "with open('example.csv',mode='r') as file:\n",
    "  reader = csv.reader(file)\n",
    "  for row in reader:\n",
    "    print(row)\n"
   ]
  },
  {
   "cell_type": "code",
   "execution_count": null,
   "metadata": {},
   "outputs": [
    {
     "name": "stdout",
     "output_type": "stream",
     "text": [
      "2024-08-22 01:09:31.174688\n"
     ]
    }
   ],
   "source": [
    "# datetime library\n",
    "from datetime import datetime,timedelta\n",
    "\n",
    "now =datetime.now()\n",
    "print(now)\n"
   ]
  },
  {
   "cell_type": "code",
   "execution_count": null,
   "metadata": {},
   "outputs": [
    {
     "name": "stdout",
     "output_type": "stream",
     "text": [
      "2024-08-22 01:09:31.174688\n"
     ]
    }
   ],
   "source": [
    "yesterday =now -timedelta()\n",
    "print(yesterday)"
   ]
  },
  {
   "cell_type": "code",
   "execution_count": null,
   "metadata": {},
   "outputs": [
    {
     "name": "stdout",
     "output_type": "stream",
     "text": [
      "1724269314.7511437\n",
      "1724269319.7518325\n"
     ]
    }
   ],
   "source": [
    "# Time library\n",
    "import time \n",
    "print(time.time())\n",
    "time.sleep(5)\n",
    "print(time.time())"
   ]
  },
  {
   "cell_type": "code",
   "execution_count": null,
   "metadata": {},
   "outputs": [
    {
     "name": "stdout",
     "output_type": "stream",
     "text": [
      "123\n"
     ]
    }
   ],
   "source": [
    "# Regular Expression\n",
    "import re\n",
    "\n",
    "pattern =  r\"\\d+\"\n",
    "\n",
    "text =\"There are 123. apples 456\"\n",
    "match = re.search(pattern,text)\n",
    "\n",
    "print(match.group())"
   ]
  },
  {
   "cell_type": "markdown",
   "metadata": {},
   "source": [
    "\n",
    "### File operation in python\n"
   ]
  },
  {
   "cell_type": "code",
   "execution_count": null,
   "metadata": {},
   "outputs": [
    {
     "name": "stdout",
     "output_type": "stream",
     "text": [
      "File handeling\n",
      "Lorem ipsum dolor, sit amet \n",
      "eaque quos expedita quis volu\n",
      "obcaecati qui fugit nesc \n",
      "molestiae.\n"
     ]
    }
   ],
   "source": [
    "# read a whole file \n",
    "\n",
    "with open(\"example.txt\",'r') as file:\n",
    "  content = file.read()\n",
    "  print(content)\n",
    "\n",
    "\n",
    "\n"
   ]
  },
  {
   "cell_type": "code",
   "execution_count": null,
   "metadata": {},
   "outputs": [
    {
     "name": "stdout",
     "output_type": "stream",
     "text": [
      "File handeling\n",
      "Lorem ipsum dolor, sit amet\n",
      "eaque quos expedita quis volu\n",
      "obcaecati qui fugit nesc\n",
      "molestiae.\n"
     ]
    }
   ],
   "source": [
    "# read a file line by line\n",
    "with open('example.txt','r') as file:\n",
    "  for line in file:\n",
    "    print(line.strip()) # .strip() :Removes the new line character "
   ]
  },
  {
   "cell_type": "code",
   "execution_count": null,
   "metadata": {},
   "outputs": [
    {
     "name": "stdout",
     "output_type": "stream",
     "text": [
      "Hello!, World\n",
      "This is a new line.\n"
     ]
    }
   ],
   "source": [
    "# Open a file for writing \n",
    "with open(\"example.txt\",'w') as file:\n",
    "  file.write(\"Hello!, World\\n\")\n",
    "  file.write(\"This is a new line.\")\n",
    "\n",
    "with open(\"example.txt\",'r') as file:\n",
    "  print(file.read()) # Conten is overwritten"
   ]
  },
  {
   "cell_type": "code",
   "execution_count": null,
   "metadata": {},
   "outputs": [
    {
     "name": "stdout",
     "output_type": "stream",
     "text": [
      "Hello!, World\n",
      "This is a new line.Append operation taking place\n",
      "Append operation taking place\n"
     ]
    }
   ],
   "source": [
    "# Write without overwritting a file\n",
    "\n",
    "with open(\"example.txt\",'a') as file:\n",
    "  file.write(\"\\nAppend operation taking place\")\n",
    "\n",
    "with open(\"example.txt\",'r') as file:\n",
    "  print(file.read())"
   ]
  },
  {
   "cell_type": "code",
   "execution_count": null,
   "metadata": {},
   "outputs": [
    {
     "name": "stdout",
     "output_type": "stream",
     "text": [
      "Hello!, World\n",
      "This is a new line.Append operation taking place\n",
      "Append operation taking placefirst line\n",
      "second line\n",
      "third line\n",
      "\n"
     ]
    }
   ],
   "source": [
    "# Writting list of lines to a file\n",
    "lines = ['first line\\n','second line\\n','third line\\n']\n",
    "\n",
    "with open(\"example.txt\",\"a\") as file:\n",
    "  file.writelines(lines)\n",
    "\n",
    "with open(\"example.txt\",'r') as file:\n",
    "  print(file.read())\n"
   ]
  },
  {
   "cell_type": "code",
   "execution_count": null,
   "metadata": {},
   "outputs": [
    {
     "name": "stdout",
     "output_type": "stream",
     "text": [
      "b'\\x00\\x01\\x02\\x03\\x04'\n"
     ]
    }
   ],
   "source": [
    "# Binary files\n",
    "data = b'\\x00\\x01\\x02\\x03\\x04'\n",
    "with open(\"example.bin\",'wb') as file:\n",
    "  file.write(data)\n",
    "\n",
    "with open(\"example.bin\",'rb') as file:\n",
    "  print(file.read())"
   ]
  },
  {
   "cell_type": "code",
   "execution_count": null,
   "metadata": {},
   "outputs": [
    {
     "name": "stdout",
     "output_type": "stream",
     "text": [
      "Hello!, World\n",
      "This is a new line.Append operation taking place\n",
      "Append operation taking placefirst line\n",
      "second line\n",
      "third line\n",
      "\n"
     ]
    }
   ],
   "source": [
    "# Read the content from the source text file and write it to a destination text file\n",
    "with open(\"example.txt\",'r') as file:\n",
    "  content=file.read()\n",
    "with open(\"destination1.txt\",'w') as file:\n",
    "  file.write(content)\n",
    "\n",
    "with open(\"destination1.txt\",\"r\") as file:\n",
    "  print(file.read())"
   ]
  },
  {
   "cell_type": "code",
   "execution_count": null,
   "metadata": {},
   "outputs": [
    {
     "data": {
      "text/html": [
       "<div>\n",
       "<style scoped>\n",
       "    .dataframe tbody tr th:only-of-type {\n",
       "        vertical-align: middle;\n",
       "    }\n",
       "\n",
       "    .dataframe tbody tr th {\n",
       "        vertical-align: top;\n",
       "    }\n",
       "\n",
       "    .dataframe thead th {\n",
       "        text-align: right;\n",
       "    }\n",
       "</style>\n",
       "<table border=\"1\" class=\"dataframe\">\n",
       "  <thead>\n",
       "    <tr style=\"text-align: right;\">\n",
       "      <th></th>\n",
       "      <th>counts</th>\n",
       "    </tr>\n",
       "  </thead>\n",
       "  <tbody>\n",
       "    <tr>\n",
       "      <th>line_count</th>\n",
       "      <td>5</td>\n",
       "    </tr>\n",
       "    <tr>\n",
       "      <th>words count</th>\n",
       "      <td>19</td>\n",
       "    </tr>\n",
       "    <tr>\n",
       "      <th>char count</th>\n",
       "      <td>126</td>\n",
       "    </tr>\n",
       "  </tbody>\n",
       "</table>\n",
       "</div>"
      ],
      "text/plain": [
       "             counts\n",
       "line_count        5\n",
       "words count      19\n",
       "char count      126"
      ]
     },
     "execution_count": 208,
     "metadata": {},
     "output_type": "execute_result"
    }
   ],
   "source": [
    "# Read a text file and count the number of characters words and lines\n",
    "# with open(file_path,'r') as file:\n",
    "#     all_text = file.read()\n",
    "#     print(\"All text:\\n\",all_text,\"\\n\")\n",
    "def count_text_file(file_path):\n",
    "  with open(file_path,'r') as file:\n",
    "    lines = file.readlines()\n",
    "    line_count =len(lines)\n",
    "    word_count = sum(len(line.split()) for line in lines)\n",
    "    char_count = sum(len(line) for line in lines)\n",
    "\n",
    "    # print(\"Lines are:\\n\",lines,\"\\n\")\n",
    "    # print(\"line counts: \",line_count ,\"\\n\")\n",
    "    # print(\"Word count :\", word_count)\n",
    "    # print(\"Character count:\", char_count)\n",
    "    return {\"line_count\":line_count, \"words count\":word_count,\"char count\":char_count}\n",
    "\n",
    "count_dict = count_text_file(\"example.txt\")\n",
    "# print(count_dict)\n",
    "import pandas as pd\n",
    "\n",
    "count_df = pd.DataFrame(count_dict,index=[\"counts\"])\n",
    "count_df.T"
   ]
  },
  {
   "cell_type": "code",
   "execution_count": null,
   "metadata": {},
   "outputs": [
    {
     "name": "stdout",
     "output_type": "stream",
     "text": [
      "Hello! World\n",
      "This is new line\n"
     ]
    }
   ],
   "source": [
    "# Writing and reading a file\n",
    "with open(\"example.txt\",\"w+\") as file:\n",
    "  file.write(\"Hello! World\\n\")\n",
    "  file.write(\"This is new line\")\n",
    "  \n",
    "  # Move the file cursor to the begining\n",
    "  file.seek(0)\n",
    "  \n",
    "  # Read the content in the file\n",
    "  print(file.read())\n",
    "   "
   ]
  },
  {
   "cell_type": "code",
   "execution_count": null,
   "metadata": {},
   "outputs": [
    {
     "name": "stdout",
     "output_type": "stream",
     "text": [
      "Directory 'new_package' is created\n"
     ]
    }
   ],
   "source": [
    "# Create a new directory\n",
    "import os\n",
    "new_directory = \"new_package\"\n",
    "os.mkdir(new_directory)\n",
    "print(f\"Directory '{new_directory}' is created\")"
   ]
  },
  {
   "cell_type": "code",
   "execution_count": null,
   "metadata": {},
   "outputs": [
    {
     "data": {
      "text/plain": [
       "['1.0-basic.ipynb',\n",
       " 'destination.txt',\n",
       " 'destination1.txt',\n",
       " 'example.bin',\n",
       " 'example.csv',\n",
       " 'example.txt',\n",
       " 'new_package',\n",
       " 'package',\n",
       " 'requirements.txt',\n",
       " 'sample.txt',\n",
       " 'source.txt',\n",
       " 'test-dir',\n",
       " 'test.ipynb']"
      ]
     },
     "execution_count": 219,
     "metadata": {},
     "output_type": "execute_result"
    }
   ],
   "source": [
    "# List all the files and folders\n",
    "items = os.listdir(\"./\")\n",
    "items"
   ]
  },
  {
   "cell_type": "code",
   "execution_count": null,
   "metadata": {},
   "outputs": [
    {
     "name": "stdout",
     "output_type": "stream",
     "text": [
      "c:\\Users\\Pavilion\\OneDrive\\Desktop\\UdemyMLCourse\\1-Python-Basics\\folder\\file.txt\n"
     ]
    }
   ],
   "source": [
    "# Joining paths\n",
    "dir_name =\"folder\"\n",
    "file_name = \"file.txt\"\n",
    "full_path = os.path.join(os.getcwd(),dir_name,file_name)\n",
    "print(full_path)"
   ]
  },
  {
   "cell_type": "raw",
   "metadata": {
    "vscode": {
     "languageId": "raw"
    }
   },
   "source": [
    "import os\n",
    "path = input(\"Enter file name...\")\n",
    "if os.path.exists(path):\n",
    "  print(f\"The path '{path}' already exist\")\n",
    "else:\n",
    "  ui = input(f\"The path doesn't exist. wanna create?(y/n)\").lower()\n",
    "  if ui=='y':\n",
    "    with open(path,'w') as file:\n",
    "      print(f\"file '{path}' is created\")\n",
    "      ui2 = input(\"wanna write sonething?(y/n)\")\n",
    "      if ui2 =='y':\n",
    "        text = input(\"Enter text...\")\n",
    "        file.write(text)\n",
    "        print(\"Write successful.\\nThank You...\")\n",
    "      elif ui2 == \"n\":\n",
    "        print(\"OK!, Have a good day\")\n",
    "      else:\n",
    "        print(\"SORRY! wrong command...\")\n",
    "  elif ui == 'n':\n",
    "    print(\"Thank You!\")\n",
    "  else:\n",
    "        print(\"SORRY! wrong command...\")"
   ]
  },
  {
   "cell_type": "markdown",
   "metadata": {},
   "source": [
    "### Exception Handeling in python\n",
    "\n",
    "-> Exception handeling in python allows you to handle error gracefully and corrective action without stopping the execution of the program .\n",
    "\n",
    "-> Exceptions are event that disrupt the normal flow of a program. They occur when an error is encountered during the program execution.\n",
    "\n",
    "-> Some common Exception in python are:\n",
    " \n",
    " * ZeroDivisionError: Devided by zero.\n",
    " * FileNotFoundError: FIle not found.\n",
    " * ValueError: Invalid Value\n",
    " "
   ]
  },
  {
   "cell_type": "code",
   "execution_count": 5,
   "metadata": {},
   "outputs": [
    {
     "name": "stdout",
     "output_type": "stream",
     "text": [
      "name 'b' is not defined\n"
     ]
    }
   ],
   "source": [
    "# Exception try,except block\n",
    "try:\n",
    " a=b\n",
    "except NameError as ex:\n",
    " print(f\"{ex}\")\n",
    " "
   ]
  },
  {
   "cell_type": "code",
   "execution_count": 10,
   "metadata": {},
   "outputs": [
    {
     "name": "stdout",
     "output_type": "stream",
     "text": [
      "Error: division by zero\n",
      "Denominator should be greater than zero.\n"
     ]
    }
   ],
   "source": [
    "try:\n",
    "  result=1/0\n",
    "except ZeroDivisionError as ex:\n",
    "  print(f\"Error: {ex}\")\n",
    "  print(\"Denominator should be greater than zero.\")"
   ]
  },
  {
   "cell_type": "code",
   "execution_count": 13,
   "metadata": {},
   "outputs": [
    {
     "name": "stdout",
     "output_type": "stream",
     "text": [
      "name 'b' is not defined\n",
      "Main exception got caught here.\n"
     ]
    }
   ],
   "source": [
    "try:\n",
    "  result=1/2\n",
    "  a=b\n",
    "except ZeroDivisionError as ex:\n",
    "  print(f\"Error: {ex}\")\n",
    "  print(\"Denominator should be greater than zero.\")\n",
    "except Exception as ex1:\n",
    "  print(ex1)\n",
    "  print(\"Main exception got caught here.\")"
   ]
  },
  {
   "cell_type": "code",
   "execution_count": 19,
   "metadata": {},
   "outputs": [
    {
     "name": "stdout",
     "output_type": "stream",
     "text": [
      "Enter denominator grater than zero\n",
      "End\n"
     ]
    }
   ],
   "source": [
    "try:\n",
    "  num=int(input(\"Enter a number\"))\n",
    "  result = 10/num\n",
    "except ValueError:\n",
    "  print(\"This is not a valid number\")\n",
    "except ZeroDivisionError:\n",
    "  print(\"Enter denominator grater than zero\")\n",
    "except Exception as ax:\n",
    "  print(ex)\n"
   ]
  },
  {
   "cell_type": "code",
   "execution_count": 21,
   "metadata": {},
   "outputs": [
    {
     "name": "stdout",
     "output_type": "stream",
     "text": [
      "The result is 5.0\n"
     ]
    }
   ],
   "source": [
    "# Try, except, else block\n",
    "try:\n",
    "  num = int(input(\"Enter a number\"))\n",
    "  result = 10/num\n",
    "except ValueError:\n",
    "  print(\"Not a valid number\")\n",
    "except ZeroDivisionError:\n",
    "  print(\"Devision by zero\")\n",
    "except Exception as ex:\n",
    "  print(ex)\n",
    "else:\n",
    "  print(f\"The result is {result}\")"
   ]
  },
  {
   "cell_type": "code",
   "execution_count": 25,
   "metadata": {},
   "outputs": [
    {
     "name": "stdout",
     "output_type": "stream",
     "text": [
      "The result is 0.8333333333333334\n",
      "Execution complete.\n"
     ]
    }
   ],
   "source": [
    "# try, except, else, finally block\n",
    "try:\n",
    "  num = int(input(\"Enter a number\"))\n",
    "  result = 10/num\n",
    "except ValueError:\n",
    "  print(\"Not a valid number\")\n",
    "except ZeroDivisionError:\n",
    "  print(\"Devision by zero\")\n",
    "except Exception as ex:\n",
    "  print(ex)\n",
    "else:\n",
    "  print(f\"The result is {result}\") # In case of no error else block will be executed\n",
    "finally:\n",
    "  print(\"Execution complete.\") # At the end it will get executed "
   ]
  },
  {
   "cell_type": "markdown",
   "metadata": {},
   "source": [
    "### Examples of file handeling and exception handeling"
   ]
  },
  {
   "cell_type": "code",
   "execution_count": 34,
   "metadata": {},
   "outputs": [
    {
     "name": "stdout",
     "output_type": "stream",
     "text": [
      "\n",
      "False\n",
      "File closed\n"
     ]
    }
   ],
   "source": [
    "try:\n",
    "  file = open('example3.txt','r')\n",
    "  content = file.read()\n",
    "  print(content)\n",
    "except FileNotFoundError:\n",
    "  print(\"The file doesn' exist\")\n",
    "except Exception as ex:\n",
    "  print(ex)\n",
    "finally:\n",
    "  if 'file' in locals() and not file.closed:\n",
    "    print(file.closed)\n",
    "    file.close()\n",
    "    print(\"File closed\")"
   ]
  },
  {
   "cell_type": "markdown",
   "metadata": {},
   "source": [
    "#### Custom Exception"
   ]
  },
  {
   "cell_type": "code",
   "execution_count": 1,
   "metadata": {},
   "outputs": [],
   "source": [
    "class Error(Exception):\n",
    "  pass\n",
    "\n",
    "class dobException(Error):\n",
    "  pass"
   ]
  },
  {
   "cell_type": "code",
   "execution_count": 5,
   "metadata": {},
   "outputs": [
    {
     "name": "stdout",
     "output_type": "stream",
     "text": [
      "Great your age is 25.\n",
      "The age is valid so you can apply for the exam.\n"
     ]
    }
   ],
   "source": [
    "year = int(input(\"Enter the dob\"))\n",
    "age = 2024 - year\n",
    "try:\n",
    "  if age <=30 and age>=20:\n",
    "    print(f\"Great your age is {age}.\\nThe age is valid so you can apply for the exam.\")\n",
    "  else:\n",
    "    raise dobException\n",
    "except dobException:\n",
    "  print(\"Sorry, age should be grater than 20 and less than 30.\")"
   ]
  },
  {
   "cell_type": "markdown",
   "metadata": {},
   "source": [
    "### Object Oriented Programming in Python\n"
   ]
  },
  {
   "cell_type": "code",
   "execution_count": 6,
   "metadata": {},
   "outputs": [],
   "source": [
    "# Next .ipynb file..."
   ]
  },
  {
   "cell_type": "code",
   "execution_count": null,
   "metadata": {},
   "outputs": [],
   "source": []
  },
  {
   "cell_type": "code",
   "execution_count": null,
   "metadata": {},
   "outputs": [],
   "source": []
  },
  {
   "cell_type": "code",
   "execution_count": null,
   "metadata": {},
   "outputs": [],
   "source": []
  }
 ],
 "metadata": {
  "kernelspec": {
   "display_name": "Python 3",
   "language": "python",
   "name": "python3"
  },
  "language_info": {
   "codemirror_mode": {
    "name": "ipython",
    "version": 3
   },
   "file_extension": ".py",
   "mimetype": "text/x-python",
   "name": "python",
   "nbconvert_exporter": "python",
   "pygments_lexer": "ipython3",
   "version": "3.12.4"
  }
 },
 "nbformat": 4,
 "nbformat_minor": 2
}
