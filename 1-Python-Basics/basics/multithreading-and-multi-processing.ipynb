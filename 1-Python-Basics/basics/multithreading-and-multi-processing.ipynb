{
 "cells": [
  {
   "cell_type": "markdown",
   "metadata": {},
   "source": [
    "># **Multithreading and Multiprocessing**\n",
    ">## **Multithreading :**\n",
    "\n",
    "**When to use multithreading**\n",
    "* I/O bound tasks -> tarsk that spends more time waiting for I/O operations.(e.g., file operation )\n",
    "* Concureent execution -> when we want to improve throughput of the application "
   ]
  },
  {
   "cell_type": "code",
   "execution_count": 24,
   "metadata": {},
   "outputs": [],
   "source": [
    "import threading\n",
    "import time\n",
    "\n",
    "def print_numbers():\n",
    "  for i in range(5):\n",
    "    time.sleep(2)\n",
    "    print(f\"\\nNumber : {i}\", end=\"\")\n",
    "\n",
    "def print_letters():\n",
    "  for i in \"abcde\":\n",
    "    time.sleep(2)\n",
    "    print(f\"\\nLetter : {i}\", end=\"\")\n"
   ]
  },
  {
   "cell_type": "code",
   "execution_count": 18,
   "metadata": {},
   "outputs": [
    {
     "name": "stdout",
     "output_type": "stream",
     "text": [
      "Number : 0\n",
      "Number : 1\n",
      "Number : 2\n",
      "Number : 3\n",
      "Number : 4\n",
      "Letter : a\n",
      "Letter : b\n",
      "Letter : c\n",
      "Letter : d\n",
      "Letter : e\n",
      "20.015840768814087\n"
     ]
    }
   ],
   "source": [
    "\n",
    "start_time = time.time()\n",
    "print_numbers()\n",
    "print_letters()\n",
    "end_time = time.time()\n",
    "finished_time = end_time-start_time\n",
    "print(finished_time)"
   ]
  },
  {
   "cell_type": "code",
   "execution_count": 26,
   "metadata": {},
   "outputs": [
    {
     "name": "stdout",
     "output_type": "stream",
     "text": [
      "\n",
      "Number : 0\n",
      "Letter : a\n",
      "Letter : b\n",
      "Number : 1\n",
      "Letter : c\n",
      "Number : 2\n",
      "Number : 3\n",
      "Letter : d\n",
      "Number : 4\n",
      "Letter : e\n",
      " 10.01511549949646\n"
     ]
    }
   ],
   "source": [
    "# Create 2 thread\n",
    "t1 = threading.Thread(target = print_numbers)\n",
    "t2 = threading.Thread(target = print_letters)\n",
    "\n",
    "start_time = time.time()\n",
    "\n",
    "# start the thread\n",
    "t1.start()\n",
    "t2.start()\n",
    "\n",
    "# Wait for the threads to complete\n",
    "t1.join()\n",
    "t2.join()\n",
    "end_time = time.time()\n",
    "finished_time = end_time-start_time\n",
    "print(\"\\n\",finished_time)"
   ]
  },
  {
   "cell_type": "markdown",
   "metadata": {},
   "source": [
    ">## **Multiprocessing :**\n",
    "\n",
    "**When to use multiprocessing**\n",
    "* Process that run parallel\n",
    "* CPU bound task - Tasks that are heavy on CPU usage (e.g., mathematical computation data processing)\n",
    "* Parallel execution - Multiple core of the CPU "
   ]
  },
  {
   "cell_type": "code",
   "execution_count": 32,
   "metadata": {},
   "outputs": [
    {
     "ename": "TypeError",
     "evalue": "'module' object is not callable",
     "output_type": "error",
     "traceback": [
      "\u001b[1;31m---------------------------------------------------------------------------\u001b[0m",
      "\u001b[1;31mTypeError\u001b[0m                                 Traceback (most recent call last)",
      "Cell \u001b[1;32mIn[32], line 16\u001b[0m\n\u001b[0;32m     13\u001b[0m     \u001b[38;5;28mprint\u001b[39m(\u001b[38;5;124mf\u001b[39m\u001b[38;5;124m\"\u001b[39m\u001b[38;5;130;01m\\n\u001b[39;00m\u001b[38;5;124mCube of \u001b[39m\u001b[38;5;132;01m{\u001b[39;00mi\u001b[38;5;132;01m}\u001b[39;00m\u001b[38;5;124m is \u001b[39m\u001b[38;5;132;01m{\u001b[39;00mi\u001b[38;5;241m*\u001b[39mi\u001b[38;5;241m*\u001b[39mi\u001b[38;5;132;01m}\u001b[39;00m\u001b[38;5;124m\"\u001b[39m,end\u001b[38;5;241m=\u001b[39m\u001b[38;5;124m\"\u001b[39m\u001b[38;5;124m\"\u001b[39m)\n\u001b[0;32m     15\u001b[0m \u001b[38;5;66;03m# Create 2 process\u001b[39;00m\n\u001b[1;32m---> 16\u001b[0m p1 \u001b[38;5;241m=\u001b[39m \u001b[43mmultiprocessing\u001b[49m\u001b[38;5;241;43m.\u001b[39;49m\u001b[43mprocess\u001b[49m\u001b[43m(\u001b[49m\u001b[43mtarget\u001b[49m\u001b[43m \u001b[49m\u001b[38;5;241;43m=\u001b[39;49m\u001b[43m \u001b[49m\u001b[43msquare_numbers\u001b[49m\u001b[43m)\u001b[49m\n\u001b[0;32m     17\u001b[0m p2 \u001b[38;5;241m=\u001b[39m multiprocessing\u001b[38;5;241m.\u001b[39mprocess(target \u001b[38;5;241m=\u001b[39m cube_numbers)\n\u001b[0;32m     19\u001b[0m start_time \u001b[38;5;241m=\u001b[39m time\u001b[38;5;241m.\u001b[39mtime()\n",
      "\u001b[1;31mTypeError\u001b[0m: 'module' object is not callable"
     ]
    }
   ],
   "source": [
    "import multiprocessing\n",
    "import time\n",
    "\n",
    "if __name__ ==\"__main__\":\n",
    "  def square_numbers():\n",
    "    for i in range(5):\n",
    "      time.sleep(1)\n",
    "      print(f\"\\nSquare of {i} is {i*i}\",end=\"\")\n",
    "\n",
    "  def cube_numbers():\n",
    "    for i in range(5):\n",
    "      time.sleep(1.5)\n",
    "      print(f\"\\nCube of {i} is {i*i*i}\",end=\"\")\n",
    "\n",
    "  # Create 2 process\n",
    "  p1 = multiprocessing.process(target = square_numbers)\n",
    "  p2 = multiprocessing.process(target = cube_numbers)\n",
    "\n",
    "  start_time = time.time()\n",
    "  # Start the process\n",
    "  p1.start()\n",
    "  p2.satrt()\n",
    "\n",
    "  ## Wait for complition of processes\n",
    "  p1.join()\n",
    "  p2.join()\n",
    "  end_time = time.time()\n",
    "  finished_time = end_time-start_time\n",
    "  print(\"\\n\",finished_time)\n",
    "\n",
    "  \n"
   ]
  },
  {
   "cell_type": "code",
   "execution_count": 31,
   "metadata": {},
   "outputs": [
    {
     "ename": "TypeError",
     "evalue": "'module' object is not callable",
     "output_type": "error",
     "traceback": [
      "\u001b[1;31m---------------------------------------------------------------------------\u001b[0m",
      "\u001b[1;31mTypeError\u001b[0m                                 Traceback (most recent call last)",
      "Cell \u001b[1;32mIn[31], line 4\u001b[0m\n\u001b[0;32m      1\u001b[0m \u001b[38;5;28;01mimport\u001b[39;00m \u001b[38;5;21;01mmultiprocessing\u001b[39;00m\u001b[38;5;21;01m.\u001b[39;00m\u001b[38;5;21;01mprocess\u001b[39;00m\n\u001b[0;32m      3\u001b[0m \u001b[38;5;66;03m# Create 2 process\u001b[39;00m\n\u001b[1;32m----> 4\u001b[0m p1 \u001b[38;5;241m=\u001b[39m \u001b[43mmultiprocessing\u001b[49m\u001b[38;5;241;43m.\u001b[39;49m\u001b[43mprocess\u001b[49m\u001b[43m(\u001b[49m\u001b[43mtarget\u001b[49m\u001b[43m \u001b[49m\u001b[38;5;241;43m=\u001b[39;49m\u001b[43m \u001b[49m\u001b[43msquare_numbers\u001b[49m\u001b[43m)\u001b[49m\n\u001b[0;32m      5\u001b[0m p2 \u001b[38;5;241m=\u001b[39m multiprocessing\u001b[38;5;241m.\u001b[39mprocess(target \u001b[38;5;241m=\u001b[39m cube_numbers)\n\u001b[0;32m      6\u001b[0m \u001b[38;5;66;03m# Start the process\u001b[39;00m\n",
      "\u001b[1;31mTypeError\u001b[0m: 'module' object is not callable"
     ]
    }
   ],
   "source": []
  },
  {
   "cell_type": "code",
   "execution_count": null,
   "metadata": {},
   "outputs": [],
   "source": []
  }
 ],
 "metadata": {
  "kernelspec": {
   "display_name": "Python 3",
   "language": "python",
   "name": "python3"
  },
  "language_info": {
   "codemirror_mode": {
    "name": "ipython",
    "version": 3
   },
   "file_extension": ".py",
   "mimetype": "text/x-python",
   "name": "python",
   "nbconvert_exporter": "python",
   "pygments_lexer": "ipython3",
   "version": "3.12.4"
  }
 },
 "nbformat": 4,
 "nbformat_minor": 2
}
