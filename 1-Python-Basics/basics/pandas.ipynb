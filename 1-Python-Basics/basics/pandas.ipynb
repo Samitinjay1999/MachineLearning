{
 "cells": [
  {
   "cell_type": "markdown",
   "metadata": {},
   "source": [
    "># **Pabdas (DataFrame and series)** "
   ]
  },
  {
   "cell_type": "code",
   "execution_count": 2,
   "metadata": {},
   "outputs": [],
   "source": [
    "import pandas as pd"
   ]
  },
  {
   "cell_type": "code",
   "execution_count": 3,
   "metadata": {},
   "outputs": [
    {
     "name": "stdout",
     "output_type": "stream",
     "text": [
      "Series : 0    1\n",
      "1    2\n",
      "2    3\n",
      "3    4\n",
      "4    5\n",
      "5    6\n",
      "dtype: int64 type : <class 'pandas.core.series.Series'>\n"
     ]
    }
   ],
   "source": [
    "# panda Series \n",
    "data =  [1,2,3,4,5,6]\n",
    "series = pd.Series(data)\n",
    "print(f\"Series : {series} type : {type(series)}\")"
   ]
  },
  {
   "cell_type": "code",
   "execution_count": 4,
   "metadata": {},
   "outputs": [
    {
     "name": "stdout",
     "output_type": "stream",
     "text": [
      "Series_dict :\n",
      "a    1\n",
      "b    2\n",
      "c    3\n",
      "dtype: int64, type : <class 'pandas.core.series.Series'>\n"
     ]
    }
   ],
   "source": [
    "# Create a series from dict\n",
    "data ={\n",
    "  'a':1,\n",
    "  'b':2,\n",
    "  'c':3\n",
    "}\n",
    "series_dict  = pd.Series(data)\n",
    "print(f\"Series_dict :\\n{series_dict}, type : {type(series_dict)}\")"
   ]
  },
  {
   "cell_type": "code",
   "execution_count": 5,
   "metadata": {},
   "outputs": [
    {
     "data": {
      "text/plain": [
       "a    10\n",
       "b    20\n",
       "c    30\n",
       "dtype: int64"
      ]
     },
     "execution_count": 5,
     "metadata": {},
     "output_type": "execute_result"
    }
   ],
   "source": [
    "data = [10,20,30]\n",
    "index = ['a','b','c']\n",
    "pd.Series(data,index=index)"
   ]
  },
  {
   "cell_type": "code",
   "execution_count": 10,
   "metadata": {},
   "outputs": [
    {
     "name": "stdout",
     "output_type": "stream",
     "text": [
      "         Name  Age         City\n",
      "0  Samitinjay   25    Bangalore\n",
      "1         Sam   24  Bhubaneswar\n",
      "2       samit   23     New York \n",
      " <class 'pandas.core.frame.DataFrame'>\n"
     ]
    }
   ],
   "source": [
    "# DataFrame \n",
    "# Creating a DataFrame from a dictionary of list\n",
    "data={\n",
    "  'Name':['Samitinjay','Sam',\"samit\"],\n",
    "  \"Age\":[25,24,23],\n",
    "  \"City\":['Bangalore', \"Bhubaneswar\",\"New York\"]\n",
    "}\n",
    "\n",
    "df = pd.DataFrame(data)\n",
    "print(df,\"\\n\",type(df))"
   ]
  },
  {
   "cell_type": "code",
   "execution_count": 12,
   "metadata": {},
   "outputs": [
    {
     "data": {
      "text/plain": [
       "array({'Name': ['Samitinjay', 'Sam', 'samit'], 'Age': [25, 24, 23], 'City': ['Bangalore', 'Bhubaneswar', 'New York']},\n",
       "      dtype=object)"
      ]
     },
     "execution_count": 12,
     "metadata": {},
     "output_type": "execute_result"
    }
   ],
   "source": [
    "import numpy as np\n",
    "np.array(data)"
   ]
  },
  {
   "cell_type": "code",
   "execution_count": 13,
   "metadata": {},
   "outputs": [
    {
     "data": {
      "text/plain": [
       "array([['Samitinjay', 25, 'Bangalore'],\n",
       "       ['Sam', 24, 'Bhubaneswar'],\n",
       "       ['samit', 23, 'New York']], dtype=object)"
      ]
     },
     "execution_count": 13,
     "metadata": {},
     "output_type": "execute_result"
    }
   ],
   "source": [
    "np.array(df)"
   ]
  },
  {
   "cell_type": "code",
   "execution_count": 16,
   "metadata": {},
   "outputs": [],
   "source": [
    "# Create a DataFrame from a list of dictioanry\n",
    "data=[\n",
    "  {'Name':'Samitinjay','Age':25,'City' : \"Bhubaneswar\"},\n",
    "  {'Name':'Samit','Age':24,'City' : \"Bangalore\"},\n",
    "  {'Name':'Sam','Age':23,'City' : \"Deogarh\"},\n",
    "  {'Name':'Kanha','Age':22,'City' : \"Jagamara\"},\n",
    "]\n",
    "\n"
   ]
  },
  {
   "cell_type": "code",
   "execution_count": 17,
   "metadata": {},
   "outputs": [
    {
     "name": "stdout",
     "output_type": "stream",
     "text": [
      "         Name  Age         City\n",
      "0  Samitinjay   25  Bhubaneswar\n",
      "1       Samit   24    Bangalore\n",
      "2         Sam   23      Deogarh\n",
      "3       Kanha   22     Jagamara\n"
     ]
    }
   ],
   "source": [
    "df =pd.DataFrame(data)\n",
    "print(df)"
   ]
  },
  {
   "cell_type": "code",
   "execution_count": null,
   "metadata": {},
   "outputs": [],
   "source": []
  }
 ],
 "metadata": {
  "kernelspec": {
   "display_name": "Python 3",
   "language": "python",
   "name": "python3"
  },
  "language_info": {
   "codemirror_mode": {
    "name": "ipython",
    "version": 3
   },
   "file_extension": ".py",
   "mimetype": "text/x-python",
   "name": "python",
   "nbconvert_exporter": "python",
   "pygments_lexer": "ipython3",
   "version": "3.12.4"
  }
 },
 "nbformat": 4,
 "nbformat_minor": 2
}
