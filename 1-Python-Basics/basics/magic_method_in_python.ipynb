{
 "cells": [
  {
   "cell_type": "markdown",
   "metadata": {},
   "source": [
    "# **Magic methods in python**\n",
    "* Magic methods `(AKA dunder (double underscore) methods)` are special methods that start and end with double underscores.\n",
    "* These methods enable you to define the behaviour of objects for built-in operations, such as arithmetic operation, comparison, and more.\n",
    "* Magic methods are pre-defined nethods in Python that you can override to change the behaviour of your objects.\n",
    "\n",
    "> Some common magic methods include:\n",
    "* `__init__ `   : Initialize a new instance of a class\n",
    "* `__str__`     : Return a string represntation of an object\n",
    "* `__repr__`    : Returns an official string representation of an object.\n",
    "* `__len__`     : Returns the length of an object\n",
    "* `__getitem__` : Gets an item from a container\n",
    "* `__setitem__` : Sets an item from in a container\n"
   ]
  },
  {
   "cell_type": "code",
   "execution_count": 3,
   "metadata": {},
   "outputs": [
    {
     "name": "stdout",
     "output_type": "stream",
     "text": [
      "samitinjay is 25 years old.\n",
      "Person (name = samitinjay, age = 25)\n"
     ]
    }
   ],
   "source": [
    "# Basic megic method\n",
    "class Person:\n",
    "  def __init__(self,name,age):\n",
    "    self.name = name\n",
    "    self.age = age\n",
    "  def __str__(self) -> str:\n",
    "    return f\"{self.name} is {self.age} years old.\"\n",
    "  \n",
    "  def __repr__(self) -> str:\n",
    "    return f\"Person (name = {self.name}, age = {self.age})\"\n",
    "\n",
    "person = Person(\"samitinjay\",25)\n",
    "print(person)\n",
    "print(repr(person))\n"
   ]
  },
  {
   "cell_type": "markdown",
   "metadata": {},
   "source": [
    " # **Operator Overloading**\n",
    "\n",
    " * Operator overloading allows you to define the behaviour of operators (+,-,* etc) for custom objects.\n",
    " * It can be achieve by overriding specific magic methods in the class\n",
    " > Some common operator overloading magic methods are,\n",
    " * `__add__(self,other)`     : Adds two object using `+` operator.\n",
    " * `__sub__(self,other)`     : Subtracts two objects using `-` operator.\n",
    " * `__mul__(self,other)`     : Multiplies two objects using `*` operator.\n",
    " * `__truediv__(self,other)` : Devides two objects using '/' operator.\n",
    " * `__eq__(self,other)`      : Check if two objects are equal using `==` operator.\n",
    " * `__lt__(self,other)`      : Checks if one object is less than another using the `<` operator. \n",
    " * `__gt__(self,other)`      : Checks if one object is greater than another using the `<` operator. "
   ]
  },
  {
   "cell_type": "code",
   "execution_count": 12,
   "metadata": {},
   "outputs": [
    {
     "name": "stdout",
     "output_type": "stream",
     "text": [
      "Vector 10, 9\n",
      "Vector 6, 3\n",
      "Vector 32, 24\n",
      "Vector 4.0, 3.0\n",
      "Vector False, False\n"
     ]
    }
   ],
   "source": [
    "# Example\n",
    "class Vector:\n",
    "  def __init__(self,x,y) -> None:\n",
    "    self.x = x\n",
    "    self.y = y\n",
    "  def __add__(self,other):\n",
    "    return Vector(self.x + other.x, self.y + other.y)\n",
    "  def __sub__(self,other):\n",
    "    return Vector(self.x - other.x, self.y - other.y)\n",
    "  def __mul__(self,other):\n",
    "    return Vector(self.x * other , self.y * other)\n",
    "  def __truediv__(self,other):\n",
    "    return Vector(self.x / other, self.y / other)\n",
    "  def __eq__(self,other):\n",
    "    return Vector(self.x == other.x , self.y == other.y)\n",
    "  def __repr__(self):\n",
    "    return f\"Vector {self.x}, {self.y}\"\n",
    "  \n",
    "# Instantiate objects of the Vector class\n",
    "v1 = Vector(8,6)\n",
    "v2 = Vector(2, 3)\n",
    "print(v1 + v2)\n",
    "print(v1 - v2)\n",
    "\n",
    "print(v1 * 4)\n",
    "print(v1 / 2)\n",
    "print(v1 == v2)"
   ]
  },
  {
   "cell_type": "code",
   "execution_count": null,
   "metadata": {},
   "outputs": [],
   "source": []
  }
 ],
 "metadata": {
  "kernelspec": {
   "display_name": "Python 3",
   "language": "python",
   "name": "python3"
  },
  "language_info": {
   "codemirror_mode": {
    "name": "ipython",
    "version": 3
   },
   "file_extension": ".py",
   "mimetype": "text/x-python",
   "name": "python",
   "nbconvert_exporter": "python",
   "pygments_lexer": "ipython3",
   "version": "3.12.4"
  }
 },
 "nbformat": 4,
 "nbformat_minor": 2
}
