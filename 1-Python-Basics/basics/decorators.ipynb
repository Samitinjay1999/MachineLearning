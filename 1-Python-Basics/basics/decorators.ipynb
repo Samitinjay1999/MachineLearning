{
 "cells": [
  {
   "cell_type": "markdown",
   "metadata": {},
   "source": [
    "># **Decorators**\n",
    "\n",
    "* Decorators are a powerful and flexible feature in python that allows you to modify the behaviour of a function or slass method.\n",
    "* They are commonly used to add functionality to functions or methods without modifying their actual code.\n",
    "\n",
    ">### **what we're covring:** \n",
    "* function copy\n",
    "* Closure\n",
    "* decorators"
   ]
  },
  {
   "cell_type": "markdown",
   "metadata": {},
   "source": [
    ">#### ***Function copy***"
   ]
  },
  {
   "cell_type": "code",
   "execution_count": 7,
   "metadata": {},
   "outputs": [
    {
     "data": {
      "text/plain": [
       "'Welcome to the advance python course'"
      ]
     },
     "execution_count": 7,
     "metadata": {},
     "output_type": "execute_result"
    }
   ],
   "source": [
    "def welcome():\n",
    "  return f\"Welcome to the advance python course\"\n",
    "\n",
    "welcome()\n"
   ]
  },
  {
   "cell_type": "code",
   "execution_count": 8,
   "metadata": {},
   "outputs": [
    {
     "name": "stdout",
     "output_type": "stream",
     "text": [
      "Before delete  Welcome to the advance python course\n",
      "After delete  Welcome to the advance python course\n"
     ]
    }
   ],
   "source": [
    "# Let's copy te welcome() to wel.\n",
    "wel = welcome\n",
    "# Let's delete the welcome().\n",
    "print(\"Before delete \",wel())\n",
    "del welcome\n",
    "# calling wel()\n",
    "print(\"After delete \",wel())\n"
   ]
  },
  {
   "cell_type": "markdown",
   "metadata": {},
   "source": [
    ">#### ***Closures***\n"
   ]
  },
  {
   "cell_type": "code",
   "execution_count": null,
   "metadata": {},
   "outputs": [],
   "source": [
    "\n",
    "def main_welcome(msg=\"welcome\"):\n",
    "  def sub_welcome():\n",
    "    print(\"Welcome to the advance python course\")\n",
    "    print(\"Please learn these concept properly.\")\n",
    "    print(\"Main method message -: \",msg)\n",
    "  return sub_welcome()"
   ]
  },
  {
   "cell_type": "code",
   "execution_count": 16,
   "metadata": {},
   "outputs": [
    {
     "name": "stdout",
     "output_type": "stream",
     "text": [
      "Welcome to the advance python course\n",
      "Please learn these concept properly.\n",
      "main method message -:  Welcome everyone\n"
     ]
    }
   ],
   "source": [
    "main_welcome(\"Welcome everyone\")"
   ]
  },
  {
   "cell_type": "code",
   "execution_count": 20,
   "metadata": {},
   "outputs": [],
   "source": [
    "# Closures with passing a function\n",
    "# Example 1\n",
    "def main_welcome(func):\n",
    "  def sub_welcome():\n",
    "    print(\"Welcome to the advance python course\")\n",
    "    func(\"Welcome everyone to this tutorial\")\n",
    "    print(\"Please learn these concept properly.\")\n",
    "    \n",
    "  return sub_welcome()"
   ]
  },
  {
   "cell_type": "code",
   "execution_count": 21,
   "metadata": {},
   "outputs": [
    {
     "name": "stdout",
     "output_type": "stream",
     "text": [
      "Welcome to the advance python course\n",
      "Welcome everyone to this tutorial\n",
      "Please learn these concept properly.\n"
     ]
    }
   ],
   "source": [
    "main_welcome(print)"
   ]
  },
  {
   "cell_type": "code",
   "execution_count": 29,
   "metadata": {},
   "outputs": [],
   "source": [
    "# Example 1\n",
    "def main_welcome(func,lst):\n",
    "  def sub_welcome():\n",
    "    print(\"Welcome to the advance python course\")\n",
    "    print(func(lst))\n",
    "    print(\"Please learn these concept properly.\")\n",
    "    \n",
    "  return sub_welcome()"
   ]
  },
  {
   "cell_type": "code",
   "execution_count": 30,
   "metadata": {},
   "outputs": [
    {
     "name": "stdout",
     "output_type": "stream",
     "text": [
      "Welcome to the advance python course\n",
      "10\n",
      "Please learn these concept properly.\n"
     ]
    }
   ],
   "source": [
    "main_welcome(len,[1,2,3,4,5,6,7,8,9,10])"
   ]
  },
  {
   "cell_type": "code",
   "execution_count": 25,
   "metadata": {},
   "outputs": [
    {
     "data": {
      "text/plain": [
       "10"
      ]
     },
     "execution_count": 25,
     "metadata": {},
     "output_type": "execute_result"
    }
   ],
   "source": [
    "len([1,2,3,4,5,6,7,8,9,10])"
   ]
  },
  {
   "cell_type": "markdown",
   "metadata": {},
   "source": [
    ">#### ***Decorators***"
   ]
  },
  {
   "cell_type": "code",
   "execution_count": 31,
   "metadata": {},
   "outputs": [],
   "source": [
    "def main_welcome(func):\n",
    "  def sub_welcome():\n",
    "    print(\"Welcome to the advance python course\")\n",
    "    func()\n",
    "    print(\"Please learn these concept properly.\")\n",
    "    \n",
    "  return sub_welcome()"
   ]
  },
  {
   "cell_type": "code",
   "execution_count": 32,
   "metadata": {},
   "outputs": [
    {
     "name": "stdout",
     "output_type": "stream",
     "text": [
      "This is an advance python course\n"
     ]
    }
   ],
   "source": [
    "def course_introduction():\n",
    "  print(\"This is an advance python course\")\n",
    "\n",
    "course_introduction()"
   ]
  },
  {
   "cell_type": "code",
   "execution_count": 33,
   "metadata": {},
   "outputs": [
    {
     "name": "stdout",
     "output_type": "stream",
     "text": [
      "Welcome to the advance python course\n",
      "This is an advance python course\n",
      "Please learn these concept properly.\n"
     ]
    }
   ],
   "source": [
    "@main_welcome\n",
    "def course_introduction():\n",
    "  print(\"This is an advance python course\")"
   ]
  },
  {
   "cell_type": "code",
   "execution_count": 35,
   "metadata": {},
   "outputs": [],
   "source": [
    "## Decorator\n",
    "def my_decorator(func):\n",
    "  def wrapper():\n",
    "    print(\"Something is happening before the function called\")\n",
    "    func()\n",
    "    print(\"Something is happening after the function called\")\n",
    "\n",
    "  return wrapper"
   ]
  },
  {
   "cell_type": "code",
   "execution_count": 36,
   "metadata": {},
   "outputs": [],
   "source": [
    "@my_decorator\n",
    "def say_hello():\n",
    "  print(\"hello\")"
   ]
  },
  {
   "cell_type": "code",
   "execution_count": 37,
   "metadata": {},
   "outputs": [
    {
     "name": "stdout",
     "output_type": "stream",
     "text": [
      "Something is happening before the function called\n",
      "hello\n",
      "Something is happening after the function called\n"
     ]
    }
   ],
   "source": [
    "say_hello()"
   ]
  },
  {
   "cell_type": "code",
   "execution_count": 44,
   "metadata": {},
   "outputs": [],
   "source": [
    "# Decorators with arguments\n",
    "def repeat(n):\n",
    "  def decorator(func):\n",
    "    def wrapper(*args, **kwargs):\n",
    "      for _ in range(n):\n",
    "        func(*args,**kwargs)\n",
    "    return wrapper\n",
    "  return decorator\n"
   ]
  },
  {
   "cell_type": "code",
   "execution_count": 45,
   "metadata": {},
   "outputs": [],
   "source": [
    "@repeat(3)\n",
    "def say_hello():\n",
    "  print(\"hello\")\n"
   ]
  },
  {
   "cell_type": "code",
   "execution_count": 46,
   "metadata": {},
   "outputs": [
    {
     "name": "stdout",
     "output_type": "stream",
     "text": [
      "hello\n",
      "hello\n",
      "hello\n"
     ]
    }
   ],
   "source": [
    "say_hello()"
   ]
  },
  {
   "cell_type": "code",
   "execution_count": null,
   "metadata": {},
   "outputs": [],
   "source": []
  }
 ],
 "metadata": {
  "kernelspec": {
   "display_name": "Python 3",
   "language": "python",
   "name": "python3"
  },
  "language_info": {
   "codemirror_mode": {
    "name": "ipython",
    "version": 3
   },
   "file_extension": ".py",
   "mimetype": "text/x-python",
   "name": "python",
   "nbconvert_exporter": "python",
   "pygments_lexer": "ipython3",
   "version": "3.12.4"
  }
 },
 "nbformat": 4,
 "nbformat_minor": 2
}
