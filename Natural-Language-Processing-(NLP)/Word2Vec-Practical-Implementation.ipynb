{
 "cells": [
  {
   "cell_type": "code",
   "execution_count": 2,
   "id": "0708262f-ecd3-4607-bc36-e577df19c7ce",
   "metadata": {},
   "outputs": [],
   "source": [
    "import gensim"
   ]
  },
  {
   "cell_type": "code",
   "execution_count": 3,
   "id": "b01f7871-db9c-42d7-9092-3f620d6da071",
   "metadata": {},
   "outputs": [],
   "source": [
    "from gensim.models import word2vec,keyedvectors"
   ]
  },
  {
   "cell_type": "code",
   "execution_count": 8,
   "id": "9edf5f6f-aaed-4147-a4f9-d2f36aa060a0",
   "metadata": {},
   "outputs": [],
   "source": []
  },
  {
   "cell_type": "code",
   "execution_count": null,
   "id": "5ad8cb20-8aef-4d95-a1fc-73edb81ee904",
   "metadata": {},
   "outputs": [],
   "source": []
  }
 ],
 "metadata": {
  "kernelspec": {
   "display_name": "Python 3 (ipykernel)",
   "language": "python",
   "name": "python3"
  },
  "language_info": {
   "codemirror_mode": {
    "name": "ipython",
    "version": 3
   },
   "file_extension": ".py",
   "mimetype": "text/x-python",
   "name": "python",
   "nbconvert_exporter": "python",
   "pygments_lexer": "ipython3",
   "version": "3.12.4"
  },
  "widgets": {
   "application/vnd.jupyter.widget-state+json": {
    "state": {},
    "version_major": 2,
    "version_minor": 0
   }
  }
 },
 "nbformat": 4,
 "nbformat_minor": 5
}
