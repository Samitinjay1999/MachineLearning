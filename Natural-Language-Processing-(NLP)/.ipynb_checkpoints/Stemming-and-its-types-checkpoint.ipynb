{
 "cells": [
  {
   "cell_type": "markdown",
   "id": "55f58563-90bb-40a7-bf9f-e59b9c98953a",
   "metadata": {},
   "source": [
    "## **Stemming**\n",
    "Stemming is a process of reducing a word to its word stem that affixes to suffixes and prefixes or the word root of words known as lemma. Stemming is important in `Natural Language Understanding` (NLU) and `Natural Language Processing` (NLP).\n",
    "\n",
    "**Example**\n",
    "<pre>\n",
    "Classification Problem\n",
    "Comments of product is a positive review or negative review\n",
    "Review --> eating, eat, eaten ---> eat / goes, going, gone ----->go\n",
    "</pre>\n",
    "\n"
   ]
  },
  {
   "cell_type": "code",
   "execution_count": 30,
   "id": "40eea9e6-c1be-4790-81c1-3a99adf9b16e",
   "metadata": {},
   "outputs": [],
   "source": [
    "words = ['eating', 'eats', 'eaten', 'writing', 'writes', 'programming', 'program', 'history', 'finally', 'finalize']"
   ]
  },
  {
   "cell_type": "markdown",
   "id": "db0fbf8b-ceb7-48b8-a900-4c1b1719bd35",
   "metadata": {},
   "source": [
    "### **PorterStemmer**"
   ]
  },
  {
   "cell_type": "code",
   "execution_count": 47,
   "id": "9bb09881-500b-453f-aeac-c11462aa460d",
   "metadata": {},
   "outputs": [],
   "source": [
    "from nltk.stem import PorterStemmer\n",
    "\n",
    "porter_stemmer = PorterStemmer()"
   ]
  },
  {
   "cell_type": "code",
   "execution_count": 48,
   "id": "5bc81cf5-56e1-4788-9782-25bf44fa48cc",
   "metadata": {},
   "outputs": [
    {
     "name": "stdout",
     "output_type": "stream",
     "text": [
      "eating -----> eat\n",
      "eats -----> eat\n",
      "eaten -----> eaten\n",
      "writing -----> write\n",
      "writes -----> write\n",
      "programming -----> program\n",
      "program -----> program\n",
      "history -----> histori\n",
      "finally -----> final\n",
      "finalize -----> final\n"
     ]
    }
   ],
   "source": [
    "\n",
    "for word in words:\n",
    "    print(word+' -----> '+porter_stemmer.stem(word))"
   ]
  },
  {
   "cell_type": "code",
   "execution_count": 49,
   "id": "f3bb5af3-9139-4f95-b733-a5f9d75eb29d",
   "metadata": {},
   "outputs": [
    {
     "data": {
      "text/plain": [
       "'congratul'"
      ]
     },
     "execution_count": 49,
     "metadata": {},
     "output_type": "execute_result"
    }
   ],
   "source": [
    "porter_stemmer.stem('congratulation')"
   ]
  },
  {
   "cell_type": "code",
   "execution_count": 50,
   "id": "f3cfafd7-abb4-47ae-b844-4fb78b8f29a3",
   "metadata": {},
   "outputs": [
    {
     "data": {
      "text/plain": [
       "'sit'"
      ]
     },
     "execution_count": 50,
     "metadata": {},
     "output_type": "execute_result"
    }
   ],
   "source": [
    "porter_stemmer.stem('sitting')"
   ]
  },
  {
   "cell_type": "markdown",
   "id": "746ac16a-cd28-4dcc-9ea0-7742837b8ac5",
   "metadata": {},
   "source": [
    "## **RegexpStemmer class**\n",
    "NLTK has RegexpStemmer class eith the help of which we can easily implement Regular Expression Stemmer algorithm. It basically takes single regular expression and removes any preffix or suffix that matches the expression.\n",
    "\n",
    "**Examlple**"
   ]
  },
  {
   "cell_type": "code",
   "execution_count": 51,
   "id": "27f8b785-60f9-4e6a-9268-c72c3799e11b",
   "metadata": {},
   "outputs": [],
   "source": [
    "from nltk.stem import RegexpStemmer\n",
    "re = 'ing$|s$|e$|able$'\n",
    "reg_stemmer = RegexpStemmer(re,min=4)"
   ]
  },
  {
   "cell_type": "code",
   "execution_count": 52,
   "id": "da9b307d-6139-4a95-8c0a-d029bb2d2ca3",
   "metadata": {},
   "outputs": [
    {
     "data": {
      "text/plain": [
       "'eat'"
      ]
     },
     "execution_count": 52,
     "metadata": {},
     "output_type": "execute_result"
    }
   ],
   "source": [
    "reg_stemmer.stem('eating')"
   ]
  },
  {
   "cell_type": "markdown",
   "id": "8b5771c7-3cf3-45b0-9321-613a24a61d50",
   "metadata": {},
   "source": [
    "## Snowball Stemmer\n"
   ]
  },
  {
   "cell_type": "code",
   "execution_count": 53,
   "id": "3154b21e-0ae4-43e6-aa60-c889533caded",
   "metadata": {},
   "outputs": [
    {
     "name": "stdout",
     "output_type": "stream",
     "text": [
      "eating -----> eat\n",
      "eats -----> eat\n",
      "eaten -----> eaten\n",
      "writing -----> write\n",
      "writes -----> write\n",
      "programming -----> program\n",
      "program -----> program\n",
      "history -----> histori\n",
      "finally -----> final\n",
      "finalize -----> final\n"
     ]
    }
   ],
   "source": [
    "from nltk.stem import SnowballStemmer\n",
    "\n",
    "snowball_stemmer = SnowballStemmer('english')\n",
    "for word in words:\n",
    "    print(f\"{word} -----> {snowball_stemmer.stem(word)}\")\n"
   ]
  },
  {
   "cell_type": "code",
   "execution_count": 56,
   "id": "1dbbda2d-6819-4fba-b019-c35e5741ef79",
   "metadata": {},
   "outputs": [
    {
     "name": "stdout",
     "output_type": "stream",
     "text": [
      "Porter Stemmer:\n",
      "fairly --> fairli\n",
      "sportingly --> sportingli\n",
      "Snowball Stemmer:\n",
      "fairly --> fair\n",
      "sportingly --> sport\n"
     ]
    }
   ],
   "source": [
    "# Comparing Porter stemmer and Snowball stemmer\n",
    "print(f'Porter Stemmer:\\nfairly --> {porter_stemmer.stem('fairly')}\\nsportingly --> {porter_stemmer.stem('sportingly')}')\n",
    "print(f'Snowball Stemmer:\\nfairly --> {snowball_stemmer.stem('fairly')}\\nsportingly --> {snowball_stemmer.stem('sportingly')}')\n"
   ]
  },
  {
   "cell_type": "code",
   "execution_count": null,
   "id": "eb37732f-0dff-4fb5-8a7a-d08f9b9663f9",
   "metadata": {},
   "outputs": [],
   "source": []
  },
  {
   "cell_type": "code",
   "execution_count": null,
   "id": "b9d66c85-4755-4ef6-88b3-fbe2846a9b43",
   "metadata": {},
   "outputs": [],
   "source": []
  },
  {
   "cell_type": "code",
   "execution_count": null,
   "id": "d71ded92-f849-4b8e-9212-ee35bd488286",
   "metadata": {},
   "outputs": [],
   "source": []
  }
 ],
 "metadata": {
  "kernelspec": {
   "display_name": "Python 3 (ipykernel)",
   "language": "python",
   "name": "python3"
  },
  "language_info": {
   "codemirror_mode": {
    "name": "ipython",
    "version": 3
   },
   "file_extension": ".py",
   "mimetype": "text/x-python",
   "name": "python",
   "nbconvert_exporter": "python",
   "pygments_lexer": "ipython3",
   "version": "3.12.4"
  },
  "widgets": {
   "application/vnd.jupyter.widget-state+json": {
    "state": {},
    "version_major": 2,
    "version_minor": 0
   }
  }
 },
 "nbformat": 4,
 "nbformat_minor": 5
}
