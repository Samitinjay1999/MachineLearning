{
 "cells": [
  {
   "cell_type": "markdown",
   "id": "18d36ece-4cee-4bd0-8682-df5603369baa",
   "metadata": {},
   "source": [
    "# **Used Car Price Prediction**\n",
    "## **1. Problem Statement**\n",
    "* This dataset comprises used cars sold on cardekho.com in india as well as important features of these cars.\n",
    "* If user can predict the price of car based on input features.\n",
    "* Prediction results can be used to give new seller the price suggestion based on the market condition\n",
    "\n",
    "## **2. Data Collection**\n",
    "* The dataset is collected from scrapping from cardekho website.\n",
    "* The data consists of 13 columns and 15411 samples."
   ]
  },
  {
   "cell_type": "code",
   "execution_count": 1,
   "id": "2eff2c75-0977-4e42-8412-da183f3b7241",
   "metadata": {},
   "outputs": [],
   "source": [
    "import numpy as np\n",
    "import pandas as pd\n",
    "import matplotlib.pyplot as plt \n",
    "import seaborn as sns \n",
    "import plotly.express as px\n",
    "\n",
    "import warnings\n",
    "warnings.filterwarnings('ignore')\n",
    "\n",
    "%matplotlib inline"
   ]
  },
  {
   "cell_type": "code",
   "execution_count": 2,
   "id": "7825989d-2a2d-4f8c-a62d-2748993bb45a",
   "metadata": {},
   "outputs": [
    {
     "data": {
      "text/html": [
       "<div>\n",
       "<style scoped>\n",
       "    .dataframe tbody tr th:only-of-type {\n",
       "        vertical-align: middle;\n",
       "    }\n",
       "\n",
       "    .dataframe tbody tr th {\n",
       "        vertical-align: top;\n",
       "    }\n",
       "\n",
       "    .dataframe thead th {\n",
       "        text-align: right;\n",
       "    }\n",
       "</style>\n",
       "<table border=\"1\" class=\"dataframe\">\n",
       "  <thead>\n",
       "    <tr style=\"text-align: right;\">\n",
       "      <th></th>\n",
       "      <th>car_name</th>\n",
       "      <th>brand</th>\n",
       "      <th>model</th>\n",
       "      <th>vehicle_age</th>\n",
       "      <th>km_driven</th>\n",
       "      <th>seller_type</th>\n",
       "      <th>fuel_type</th>\n",
       "      <th>transmission_type</th>\n",
       "      <th>mileage</th>\n",
       "      <th>engine</th>\n",
       "      <th>max_power</th>\n",
       "      <th>seats</th>\n",
       "      <th>selling_price</th>\n",
       "    </tr>\n",
       "  </thead>\n",
       "  <tbody>\n",
       "    <tr>\n",
       "      <th>0</th>\n",
       "      <td>Maruti Alto</td>\n",
       "      <td>Maruti</td>\n",
       "      <td>Alto</td>\n",
       "      <td>9</td>\n",
       "      <td>120000</td>\n",
       "      <td>Individual</td>\n",
       "      <td>Petrol</td>\n",
       "      <td>Manual</td>\n",
       "      <td>19.70</td>\n",
       "      <td>796</td>\n",
       "      <td>46.30</td>\n",
       "      <td>5</td>\n",
       "      <td>120000</td>\n",
       "    </tr>\n",
       "    <tr>\n",
       "      <th>1</th>\n",
       "      <td>Hyundai Grand</td>\n",
       "      <td>Hyundai</td>\n",
       "      <td>Grand</td>\n",
       "      <td>5</td>\n",
       "      <td>20000</td>\n",
       "      <td>Individual</td>\n",
       "      <td>Petrol</td>\n",
       "      <td>Manual</td>\n",
       "      <td>18.90</td>\n",
       "      <td>1197</td>\n",
       "      <td>82.00</td>\n",
       "      <td>5</td>\n",
       "      <td>550000</td>\n",
       "    </tr>\n",
       "    <tr>\n",
       "      <th>2</th>\n",
       "      <td>Hyundai i20</td>\n",
       "      <td>Hyundai</td>\n",
       "      <td>i20</td>\n",
       "      <td>11</td>\n",
       "      <td>60000</td>\n",
       "      <td>Individual</td>\n",
       "      <td>Petrol</td>\n",
       "      <td>Manual</td>\n",
       "      <td>17.00</td>\n",
       "      <td>1197</td>\n",
       "      <td>80.00</td>\n",
       "      <td>5</td>\n",
       "      <td>215000</td>\n",
       "    </tr>\n",
       "    <tr>\n",
       "      <th>3</th>\n",
       "      <td>Maruti Alto</td>\n",
       "      <td>Maruti</td>\n",
       "      <td>Alto</td>\n",
       "      <td>9</td>\n",
       "      <td>37000</td>\n",
       "      <td>Individual</td>\n",
       "      <td>Petrol</td>\n",
       "      <td>Manual</td>\n",
       "      <td>20.92</td>\n",
       "      <td>998</td>\n",
       "      <td>67.10</td>\n",
       "      <td>5</td>\n",
       "      <td>226000</td>\n",
       "    </tr>\n",
       "    <tr>\n",
       "      <th>4</th>\n",
       "      <td>Ford Ecosport</td>\n",
       "      <td>Ford</td>\n",
       "      <td>Ecosport</td>\n",
       "      <td>6</td>\n",
       "      <td>30000</td>\n",
       "      <td>Dealer</td>\n",
       "      <td>Diesel</td>\n",
       "      <td>Manual</td>\n",
       "      <td>22.77</td>\n",
       "      <td>1498</td>\n",
       "      <td>98.59</td>\n",
       "      <td>5</td>\n",
       "      <td>570000</td>\n",
       "    </tr>\n",
       "  </tbody>\n",
       "</table>\n",
       "</div>"
      ],
      "text/plain": [
       "        car_name    brand     model  vehicle_age  km_driven seller_type  \\\n",
       "0    Maruti Alto   Maruti      Alto            9     120000  Individual   \n",
       "1  Hyundai Grand  Hyundai     Grand            5      20000  Individual   \n",
       "2    Hyundai i20  Hyundai       i20           11      60000  Individual   \n",
       "3    Maruti Alto   Maruti      Alto            9      37000  Individual   \n",
       "4  Ford Ecosport     Ford  Ecosport            6      30000      Dealer   \n",
       "\n",
       "  fuel_type transmission_type  mileage  engine  max_power  seats  \\\n",
       "0    Petrol            Manual    19.70     796      46.30      5   \n",
       "1    Petrol            Manual    18.90    1197      82.00      5   \n",
       "2    Petrol            Manual    17.00    1197      80.00      5   \n",
       "3    Petrol            Manual    20.92     998      67.10      5   \n",
       "4    Diesel            Manual    22.77    1498      98.59      5   \n",
       "\n",
       "   selling_price  \n",
       "0         120000  \n",
       "1         550000  \n",
       "2         215000  \n",
       "3         226000  \n",
       "4         570000  "
      ]
     },
     "execution_count": 2,
     "metadata": {},
     "output_type": "execute_result"
    }
   ],
   "source": [
    "df = pd.read_csv('cardekho_imputated.csv',index_col=[0])\n",
    "df.head()"
   ]
  },
  {
   "cell_type": "markdown",
   "id": "d5decfc9-c7af-4b7c-beaa-d15fd5aa16b4",
   "metadata": {},
   "source": [
    "## **3. Data Cleaning**\n",
    "### **Handling Missing Values**\n",
    "* Handling missing values\n",
    "* Handling Duplicates\n",
    "* Check Datatypes\n",
    "* Understand the Dataset"
   ]
  },
  {
   "cell_type": "code",
   "execution_count": 3,
   "id": "95967a40-e82c-4b68-ab91-234e81b5f0ce",
   "metadata": {},
   "outputs": [
    {
     "data": {
      "text/plain": [
       "car_name             0\n",
       "brand                0\n",
       "model                0\n",
       "vehicle_age          0\n",
       "km_driven            0\n",
       "seller_type          0\n",
       "fuel_type            0\n",
       "transmission_type    0\n",
       "mileage              0\n",
       "engine               0\n",
       "max_power            0\n",
       "seats                0\n",
       "selling_price        0\n",
       "dtype: int64"
      ]
     },
     "execution_count": 3,
     "metadata": {},
     "output_type": "execute_result"
    }
   ],
   "source": [
    "# Handling missing values\n",
    "df.isnull().sum()"
   ]
  },
  {
   "cell_type": "code",
   "execution_count": 4,
   "id": "7cdc439e-4438-4016-b6ec-a92ecbcdbff3",
   "metadata": {},
   "outputs": [
    {
     "data": {
      "text/html": [
       "<div>\n",
       "<style scoped>\n",
       "    .dataframe tbody tr th:only-of-type {\n",
       "        vertical-align: middle;\n",
       "    }\n",
       "\n",
       "    .dataframe tbody tr th {\n",
       "        vertical-align: top;\n",
       "    }\n",
       "\n",
       "    .dataframe thead th {\n",
       "        text-align: right;\n",
       "    }\n",
       "</style>\n",
       "<table border=\"1\" class=\"dataframe\">\n",
       "  <thead>\n",
       "    <tr style=\"text-align: right;\">\n",
       "      <th></th>\n",
       "      <th>car_name</th>\n",
       "      <th>brand</th>\n",
       "      <th>model</th>\n",
       "      <th>vehicle_age</th>\n",
       "      <th>km_driven</th>\n",
       "      <th>seller_type</th>\n",
       "      <th>fuel_type</th>\n",
       "      <th>transmission_type</th>\n",
       "      <th>mileage</th>\n",
       "      <th>engine</th>\n",
       "      <th>max_power</th>\n",
       "      <th>seats</th>\n",
       "      <th>selling_price</th>\n",
       "    </tr>\n",
       "  </thead>\n",
       "  <tbody>\n",
       "    <tr>\n",
       "      <th>0</th>\n",
       "      <td>Maruti Alto</td>\n",
       "      <td>Maruti</td>\n",
       "      <td>Alto</td>\n",
       "      <td>9</td>\n",
       "      <td>120000</td>\n",
       "      <td>Individual</td>\n",
       "      <td>Petrol</td>\n",
       "      <td>Manual</td>\n",
       "      <td>19.70</td>\n",
       "      <td>796</td>\n",
       "      <td>46.30</td>\n",
       "      <td>5</td>\n",
       "      <td>120000</td>\n",
       "    </tr>\n",
       "    <tr>\n",
       "      <th>1</th>\n",
       "      <td>Hyundai Grand</td>\n",
       "      <td>Hyundai</td>\n",
       "      <td>Grand</td>\n",
       "      <td>5</td>\n",
       "      <td>20000</td>\n",
       "      <td>Individual</td>\n",
       "      <td>Petrol</td>\n",
       "      <td>Manual</td>\n",
       "      <td>18.90</td>\n",
       "      <td>1197</td>\n",
       "      <td>82.00</td>\n",
       "      <td>5</td>\n",
       "      <td>550000</td>\n",
       "    </tr>\n",
       "    <tr>\n",
       "      <th>2</th>\n",
       "      <td>Hyundai i20</td>\n",
       "      <td>Hyundai</td>\n",
       "      <td>i20</td>\n",
       "      <td>11</td>\n",
       "      <td>60000</td>\n",
       "      <td>Individual</td>\n",
       "      <td>Petrol</td>\n",
       "      <td>Manual</td>\n",
       "      <td>17.00</td>\n",
       "      <td>1197</td>\n",
       "      <td>80.00</td>\n",
       "      <td>5</td>\n",
       "      <td>215000</td>\n",
       "    </tr>\n",
       "    <tr>\n",
       "      <th>3</th>\n",
       "      <td>Maruti Alto</td>\n",
       "      <td>Maruti</td>\n",
       "      <td>Alto</td>\n",
       "      <td>9</td>\n",
       "      <td>37000</td>\n",
       "      <td>Individual</td>\n",
       "      <td>Petrol</td>\n",
       "      <td>Manual</td>\n",
       "      <td>20.92</td>\n",
       "      <td>998</td>\n",
       "      <td>67.10</td>\n",
       "      <td>5</td>\n",
       "      <td>226000</td>\n",
       "    </tr>\n",
       "    <tr>\n",
       "      <th>4</th>\n",
       "      <td>Ford Ecosport</td>\n",
       "      <td>Ford</td>\n",
       "      <td>Ecosport</td>\n",
       "      <td>6</td>\n",
       "      <td>30000</td>\n",
       "      <td>Dealer</td>\n",
       "      <td>Diesel</td>\n",
       "      <td>Manual</td>\n",
       "      <td>22.77</td>\n",
       "      <td>1498</td>\n",
       "      <td>98.59</td>\n",
       "      <td>5</td>\n",
       "      <td>570000</td>\n",
       "    </tr>\n",
       "  </tbody>\n",
       "</table>\n",
       "</div>"
      ],
      "text/plain": [
       "        car_name    brand     model  vehicle_age  km_driven seller_type  \\\n",
       "0    Maruti Alto   Maruti      Alto            9     120000  Individual   \n",
       "1  Hyundai Grand  Hyundai     Grand            5      20000  Individual   \n",
       "2    Hyundai i20  Hyundai       i20           11      60000  Individual   \n",
       "3    Maruti Alto   Maruti      Alto            9      37000  Individual   \n",
       "4  Ford Ecosport     Ford  Ecosport            6      30000      Dealer   \n",
       "\n",
       "  fuel_type transmission_type  mileage  engine  max_power  seats  \\\n",
       "0    Petrol            Manual    19.70     796      46.30      5   \n",
       "1    Petrol            Manual    18.90    1197      82.00      5   \n",
       "2    Petrol            Manual    17.00    1197      80.00      5   \n",
       "3    Petrol            Manual    20.92     998      67.10      5   \n",
       "4    Diesel            Manual    22.77    1498      98.59      5   \n",
       "\n",
       "   selling_price  \n",
       "0         120000  \n",
       "1         550000  \n",
       "2         215000  \n",
       "3         226000  \n",
       "4         570000  "
      ]
     },
     "execution_count": 4,
     "metadata": {},
     "output_type": "execute_result"
    }
   ],
   "source": [
    "# Handling Duplicates\n",
    "df.head()"
   ]
  },
  {
   "cell_type": "markdown",
   "id": "e6e22a2b-d64a-4daa-a374-39349cc88b8b",
   "metadata": {},
   "source": [
    "* brand and model is same as the car_name feature \n",
    "* We'll drop car_name and brand because it may be repeated many time and will take only model feature because it is more important\n"
   ]
  },
  {
   "cell_type": "code",
   "execution_count": 5,
   "id": "093ed0d1-f35d-4058-ba49-acb0967222d0",
   "metadata": {},
   "outputs": [
    {
     "data": {
      "text/html": [
       "<div>\n",
       "<style scoped>\n",
       "    .dataframe tbody tr th:only-of-type {\n",
       "        vertical-align: middle;\n",
       "    }\n",
       "\n",
       "    .dataframe tbody tr th {\n",
       "        vertical-align: top;\n",
       "    }\n",
       "\n",
       "    .dataframe thead th {\n",
       "        text-align: right;\n",
       "    }\n",
       "</style>\n",
       "<table border=\"1\" class=\"dataframe\">\n",
       "  <thead>\n",
       "    <tr style=\"text-align: right;\">\n",
       "      <th></th>\n",
       "      <th>model</th>\n",
       "      <th>vehicle_age</th>\n",
       "      <th>km_driven</th>\n",
       "      <th>seller_type</th>\n",
       "      <th>fuel_type</th>\n",
       "      <th>transmission_type</th>\n",
       "      <th>mileage</th>\n",
       "      <th>engine</th>\n",
       "      <th>max_power</th>\n",
       "      <th>seats</th>\n",
       "      <th>selling_price</th>\n",
       "    </tr>\n",
       "  </thead>\n",
       "  <tbody>\n",
       "    <tr>\n",
       "      <th>0</th>\n",
       "      <td>Alto</td>\n",
       "      <td>9</td>\n",
       "      <td>120000</td>\n",
       "      <td>Individual</td>\n",
       "      <td>Petrol</td>\n",
       "      <td>Manual</td>\n",
       "      <td>19.7</td>\n",
       "      <td>796</td>\n",
       "      <td>46.3</td>\n",
       "      <td>5</td>\n",
       "      <td>120000</td>\n",
       "    </tr>\n",
       "    <tr>\n",
       "      <th>1</th>\n",
       "      <td>Grand</td>\n",
       "      <td>5</td>\n",
       "      <td>20000</td>\n",
       "      <td>Individual</td>\n",
       "      <td>Petrol</td>\n",
       "      <td>Manual</td>\n",
       "      <td>18.9</td>\n",
       "      <td>1197</td>\n",
       "      <td>82.0</td>\n",
       "      <td>5</td>\n",
       "      <td>550000</td>\n",
       "    </tr>\n",
       "    <tr>\n",
       "      <th>2</th>\n",
       "      <td>i20</td>\n",
       "      <td>11</td>\n",
       "      <td>60000</td>\n",
       "      <td>Individual</td>\n",
       "      <td>Petrol</td>\n",
       "      <td>Manual</td>\n",
       "      <td>17.0</td>\n",
       "      <td>1197</td>\n",
       "      <td>80.0</td>\n",
       "      <td>5</td>\n",
       "      <td>215000</td>\n",
       "    </tr>\n",
       "  </tbody>\n",
       "</table>\n",
       "</div>"
      ],
      "text/plain": [
       "   model  vehicle_age  km_driven seller_type fuel_type transmission_type  \\\n",
       "0   Alto            9     120000  Individual    Petrol            Manual   \n",
       "1  Grand            5      20000  Individual    Petrol            Manual   \n",
       "2    i20           11      60000  Individual    Petrol            Manual   \n",
       "\n",
       "   mileage  engine  max_power  seats  selling_price  \n",
       "0     19.7     796       46.3      5         120000  \n",
       "1     18.9    1197       82.0      5         550000  \n",
       "2     17.0    1197       80.0      5         215000  "
      ]
     },
     "execution_count": 5,
     "metadata": {},
     "output_type": "execute_result"
    }
   ],
   "source": [
    "# Drop car_name and model features\n",
    "df.drop(['car_name','brand'],axis=1,inplace=True)\n",
    "df[:3]"
   ]
  },
  {
   "cell_type": "code",
   "execution_count": 6,
   "id": "f6ae8829-1c81-402e-aefd-f5779a2eca0d",
   "metadata": {},
   "outputs": [
    {
     "data": {
      "text/plain": [
       "model\n",
       "i20            906\n",
       "Swift Dzire    890\n",
       "Swift          781\n",
       "Alto           778\n",
       "City           757\n",
       "              ... \n",
       "Ghibli           1\n",
       "Altroz           1\n",
       "GTC4Lusso        1\n",
       "Aura             1\n",
       "Gurkha           1\n",
       "Name: count, Length: 120, dtype: int64"
      ]
     },
     "execution_count": 6,
     "metadata": {},
     "output_type": "execute_result"
    }
   ],
   "source": [
    "df.model.value_counts()"
   ]
  },
  {
   "cell_type": "code",
   "execution_count": 7,
   "id": "c4f6bf1d-8384-41bc-b236-3d7e1887d01d",
   "metadata": {},
   "outputs": [
    {
     "data": {
      "text/plain": [
       "120"
      ]
     },
     "execution_count": 7,
     "metadata": {},
     "output_type": "execute_result"
    }
   ],
   "source": [
    "len(df.model.unique())"
   ]
  },
  {
   "cell_type": "code",
   "execution_count": 8,
   "id": "56a71227-8d8f-4ee7-99f4-f376f6f8b509",
   "metadata": {},
   "outputs": [
    {
     "name": "stdout",
     "output_type": "stream",
     "text": [
      "Number of numerical feature : 7\n",
      "['vehicle_age', 'km_driven', 'mileage', 'engine', 'max_power', 'seats', 'selling_price']\n",
      "Number of categorical feature : 4\n",
      "['model', 'seller_type', 'fuel_type', 'transmission_type']\n",
      "Number of discrete feature : 2\n",
      "['vehicle_age', 'seats']\n",
      "Number of continuous feature : 5\n",
      "['km_driven', 'mileage', 'engine', 'max_power', 'selling_price']\n"
     ]
    }
   ],
   "source": [
    "num_features = [feature for feature in df.columns if df[feature].dtype != 'O']\n",
    "print(f\"Number of numerical feature : {len(num_features)}\\n{num_features}\")\n",
    "cat_features = [feature for feature in df.columns if df[feature].dtype=='O']\n",
    "print(f\"Number of categorical feature : {len(cat_features)}\\n{cat_features}\")\n",
    "discrete_features = [feature  for feature in num_features if len(df[feature].unique())<=25]\n",
    "print(f\"Number of discrete feature : {len(discrete_features)}\\n{discrete_features}\")\n",
    "continuous_features = [feature for feature in num_features if feature not in discrete_features]\n",
    "print(f\"Number of continuous feature : {len(continuous_features)}\\n{continuous_features}\")"
   ]
  },
  {
   "cell_type": "markdown",
   "id": "fb982606-e9cf-4da4-aa7d-0987d65138bf",
   "metadata": {},
   "source": [
    "## **4. Split The Data Into Independent And Dependent Features**"
   ]
  },
  {
   "cell_type": "code",
   "execution_count": 9,
   "id": "930ca6ee-5fed-49a0-92d9-77b9c4150dfb",
   "metadata": {},
   "outputs": [],
   "source": [
    "# First split the data into \n",
    "X = df.drop('selling_price',axis=1)\n",
    "y = df['selling_price']"
   ]
  },
  {
   "cell_type": "markdown",
   "id": "a4fadb77-2aee-451c-8c26-6ede24fb07a3",
   "metadata": {},
   "source": [
    "## **5. Encoding the model category label**"
   ]
  },
  {
   "cell_type": "code",
   "execution_count": 10,
   "id": "dd027595-8b25-4d90-adba-a70f03c4dee9",
   "metadata": {},
   "outputs": [],
   "source": [
    "from sklearn.preprocessing import LabelEncoder\n",
    "le = LabelEncoder()\n",
    "X['model'] = le.fit_transform(X['model'])\n"
   ]
  },
  {
   "cell_type": "markdown",
   "id": "ac1c5042-5598-4850-9fa1-53026d1a1019",
   "metadata": {},
   "source": [
    "## **6. Train Test Split (Split the data into training and test set)**"
   ]
  },
  {
   "cell_type": "code",
   "execution_count": 11,
   "id": "55161d53-b6f3-4153-b23c-ad45946bcadc",
   "metadata": {},
   "outputs": [
    {
     "data": {
      "text/html": [
       "<div>\n",
       "<style scoped>\n",
       "    .dataframe tbody tr th:only-of-type {\n",
       "        vertical-align: middle;\n",
       "    }\n",
       "\n",
       "    .dataframe tbody tr th {\n",
       "        vertical-align: top;\n",
       "    }\n",
       "\n",
       "    .dataframe thead th {\n",
       "        text-align: right;\n",
       "    }\n",
       "</style>\n",
       "<table border=\"1\" class=\"dataframe\">\n",
       "  <thead>\n",
       "    <tr style=\"text-align: right;\">\n",
       "      <th></th>\n",
       "      <th>model</th>\n",
       "      <th>vehicle_age</th>\n",
       "      <th>km_driven</th>\n",
       "      <th>seller_type</th>\n",
       "      <th>fuel_type</th>\n",
       "      <th>transmission_type</th>\n",
       "      <th>mileage</th>\n",
       "      <th>engine</th>\n",
       "      <th>max_power</th>\n",
       "      <th>seats</th>\n",
       "    </tr>\n",
       "  </thead>\n",
       "  <tbody>\n",
       "    <tr>\n",
       "      <th>14238</th>\n",
       "      <td>108</td>\n",
       "      <td>7</td>\n",
       "      <td>70252</td>\n",
       "      <td>Dealer</td>\n",
       "      <td>Diesel</td>\n",
       "      <td>Automatic</td>\n",
       "      <td>11.20</td>\n",
       "      <td>2400</td>\n",
       "      <td>215.00</td>\n",
       "      <td>5</td>\n",
       "    </tr>\n",
       "    <tr>\n",
       "      <th>1731</th>\n",
       "      <td>91</td>\n",
       "      <td>2</td>\n",
       "      <td>10000</td>\n",
       "      <td>Individual</td>\n",
       "      <td>Petrol</td>\n",
       "      <td>Manual</td>\n",
       "      <td>23.84</td>\n",
       "      <td>1199</td>\n",
       "      <td>84.00</td>\n",
       "      <td>5</td>\n",
       "    </tr>\n",
       "    <tr>\n",
       "      <th>13218</th>\n",
       "      <td>17</td>\n",
       "      <td>2</td>\n",
       "      <td>6000</td>\n",
       "      <td>Dealer</td>\n",
       "      <td>Diesel</td>\n",
       "      <td>Automatic</td>\n",
       "      <td>19.00</td>\n",
       "      <td>1950</td>\n",
       "      <td>241.30</td>\n",
       "      <td>5</td>\n",
       "    </tr>\n",
       "    <tr>\n",
       "      <th>403</th>\n",
       "      <td>25</td>\n",
       "      <td>7</td>\n",
       "      <td>63000</td>\n",
       "      <td>Dealer</td>\n",
       "      <td>Petrol</td>\n",
       "      <td>Manual</td>\n",
       "      <td>17.80</td>\n",
       "      <td>1497</td>\n",
       "      <td>117.30</td>\n",
       "      <td>5</td>\n",
       "    </tr>\n",
       "    <tr>\n",
       "      <th>13550</th>\n",
       "      <td>117</td>\n",
       "      <td>10</td>\n",
       "      <td>80292</td>\n",
       "      <td>Dealer</td>\n",
       "      <td>Petrol</td>\n",
       "      <td>Manual</td>\n",
       "      <td>20.36</td>\n",
       "      <td>1197</td>\n",
       "      <td>78.90</td>\n",
       "      <td>5</td>\n",
       "    </tr>\n",
       "    <tr>\n",
       "      <th>...</th>\n",
       "      <td>...</td>\n",
       "      <td>...</td>\n",
       "      <td>...</td>\n",
       "      <td>...</td>\n",
       "      <td>...</td>\n",
       "      <td>...</td>\n",
       "      <td>...</td>\n",
       "      <td>...</td>\n",
       "      <td>...</td>\n",
       "      <td>...</td>\n",
       "    </tr>\n",
       "    <tr>\n",
       "      <th>6581</th>\n",
       "      <td>42</td>\n",
       "      <td>7</td>\n",
       "      <td>127731</td>\n",
       "      <td>Dealer</td>\n",
       "      <td>Diesel</td>\n",
       "      <td>Manual</td>\n",
       "      <td>20.77</td>\n",
       "      <td>1248</td>\n",
       "      <td>88.80</td>\n",
       "      <td>7</td>\n",
       "    </tr>\n",
       "    <tr>\n",
       "      <th>17029</th>\n",
       "      <td>95</td>\n",
       "      <td>11</td>\n",
       "      <td>59000</td>\n",
       "      <td>Dealer</td>\n",
       "      <td>Petrol</td>\n",
       "      <td>Manual</td>\n",
       "      <td>16.09</td>\n",
       "      <td>1598</td>\n",
       "      <td>103.20</td>\n",
       "      <td>5</td>\n",
       "    </tr>\n",
       "    <tr>\n",
       "      <th>6839</th>\n",
       "      <td>100</td>\n",
       "      <td>7</td>\n",
       "      <td>20000</td>\n",
       "      <td>Individual</td>\n",
       "      <td>Petrol</td>\n",
       "      <td>Manual</td>\n",
       "      <td>20.51</td>\n",
       "      <td>998</td>\n",
       "      <td>67.04</td>\n",
       "      <td>5</td>\n",
       "    </tr>\n",
       "    <tr>\n",
       "      <th>1104</th>\n",
       "      <td>118</td>\n",
       "      <td>2</td>\n",
       "      <td>15000</td>\n",
       "      <td>Dealer</td>\n",
       "      <td>Petrol</td>\n",
       "      <td>Manual</td>\n",
       "      <td>18.60</td>\n",
       "      <td>1197</td>\n",
       "      <td>81.86</td>\n",
       "      <td>5</td>\n",
       "    </tr>\n",
       "    <tr>\n",
       "      <th>9295</th>\n",
       "      <td>24</td>\n",
       "      <td>2</td>\n",
       "      <td>30000</td>\n",
       "      <td>Individual</td>\n",
       "      <td>Petrol</td>\n",
       "      <td>Automatic</td>\n",
       "      <td>20.28</td>\n",
       "      <td>1462</td>\n",
       "      <td>103.25</td>\n",
       "      <td>5</td>\n",
       "    </tr>\n",
       "  </tbody>\n",
       "</table>\n",
       "<p>12328 rows × 10 columns</p>\n",
       "</div>"
      ],
      "text/plain": [
       "       model  vehicle_age  km_driven seller_type fuel_type transmission_type  \\\n",
       "14238    108            7      70252      Dealer    Diesel         Automatic   \n",
       "1731      91            2      10000  Individual    Petrol            Manual   \n",
       "13218     17            2       6000      Dealer    Diesel         Automatic   \n",
       "403       25            7      63000      Dealer    Petrol            Manual   \n",
       "13550    117           10      80292      Dealer    Petrol            Manual   \n",
       "...      ...          ...        ...         ...       ...               ...   \n",
       "6581      42            7     127731      Dealer    Diesel            Manual   \n",
       "17029     95           11      59000      Dealer    Petrol            Manual   \n",
       "6839     100            7      20000  Individual    Petrol            Manual   \n",
       "1104     118            2      15000      Dealer    Petrol            Manual   \n",
       "9295      24            2      30000  Individual    Petrol         Automatic   \n",
       "\n",
       "       mileage  engine  max_power  seats  \n",
       "14238    11.20    2400     215.00      5  \n",
       "1731     23.84    1199      84.00      5  \n",
       "13218    19.00    1950     241.30      5  \n",
       "403      17.80    1497     117.30      5  \n",
       "13550    20.36    1197      78.90      5  \n",
       "...        ...     ...        ...    ...  \n",
       "6581     20.77    1248      88.80      7  \n",
       "17029    16.09    1598     103.20      5  \n",
       "6839     20.51     998      67.04      5  \n",
       "1104     18.60    1197      81.86      5  \n",
       "9295     20.28    1462     103.25      5  \n",
       "\n",
       "[12328 rows x 10 columns]"
      ]
     },
     "execution_count": 11,
     "metadata": {},
     "output_type": "execute_result"
    }
   ],
   "source": [
    "from sklearn.model_selection import train_test_split\n",
    "X_train,X_test,y_train,y_test = train_test_split(X,y,test_size=0.2,random_state=42)\n",
    "X_train"
   ]
  },
  {
   "cell_type": "code",
   "execution_count": 12,
   "id": "a711a2cf-5000-4813-92fb-99eecad36987",
   "metadata": {},
   "outputs": [
    {
     "data": {
      "text/plain": [
       "14238    1825000\n",
       "1731      515000\n",
       "13218    7500000\n",
       "403       435000\n",
       "13550     200000\n",
       "          ...   \n",
       "6581      665000\n",
       "17029     249000\n",
       "6839      250000\n",
       "1104      620000\n",
       "9295      960000\n",
       "Name: selling_price, Length: 12328, dtype: int64"
      ]
     },
     "execution_count": 12,
     "metadata": {},
     "output_type": "execute_result"
    }
   ],
   "source": [
    "y_train"
   ]
  },
  {
   "cell_type": "markdown",
   "id": "3e458083-82c5-4b6e-860c-d9be158a65e5",
   "metadata": {},
   "source": [
    "## **7. Feature Encoding and Scaling** "
   ]
  },
  {
   "cell_type": "code",
   "execution_count": 13,
   "id": "3be6454f-c998-4800-8782-e08e77216dae",
   "metadata": {},
   "outputs": [
    {
     "data": {
      "text/plain": [
       "array([108,  91,  17,  25, 117,  13,  87,  54,  30,  64,  62,  39,  44,\n",
       "        89,  32,  38,  23,   0, 114, 111,  98,   7, 103,  97,  56,  90,\n",
       "       119,  84,  49,  77,  24,  99, 118, 100,  85,  47,  14,  10,  96,\n",
       "        70,  45,  73,   1,   4,  16,   2,  42,  60,  88,  36,  58,  78,\n",
       "        11,  61,  80,  59,   3,  20,  41,  95,  65,  71,  46,  79,  83,\n",
       "        19, 106,  81,  68,  26,  40, 112, 113, 101,  63,  92,  57, 104,\n",
       "        37,  22,  94,  27,  34,  86,   5,  74, 116, 107,  35,  29,  53,\n",
       "       102,   6,  93,  72,   9, 109, 115,   8,  48,  12,  33,  67,  55,\n",
       "        31,  50,  28,  51,  43,  18, 110, 105,  21,  82,  76,  66,  75,\n",
       "        52])"
      ]
     },
     "execution_count": 13,
     "metadata": {},
     "output_type": "execute_result"
    }
   ],
   "source": [
    "X_train.model.unique()"
   ]
  },
  {
   "cell_type": "code",
   "execution_count": 14,
   "id": "620a9aa0-ce6a-44b9-923d-7c7177b6202a",
   "metadata": {},
   "outputs": [
    {
     "data": {
      "text/plain": [
       "120"
      ]
     },
     "execution_count": 14,
     "metadata": {},
     "output_type": "execute_result"
    }
   ],
   "source": [
    "len(df.model.unique())"
   ]
  },
  {
   "cell_type": "code",
   "execution_count": 15,
   "id": "68af5b57-d40c-4bfa-a800-284ec0e900ed",
   "metadata": {},
   "outputs": [
    {
     "data": {
      "text/plain": [
       "(3, 5, 2)"
      ]
     },
     "execution_count": 15,
     "metadata": {},
     "output_type": "execute_result"
    }
   ],
   "source": [
    "len(df.seller_type.unique()),len(df.fuel_type.unique()),len(df.transmission_type.unique())\n"
   ]
  },
  {
   "cell_type": "code",
   "execution_count": 16,
   "id": "fa974c4a-b56f-44f2-b207-b5394114e911",
   "metadata": {},
   "outputs": [],
   "source": [
    "from sklearn.preprocessing import LabelEncoder,OneHotEncoder,StandardScaler\n",
    "from sklearn.compose import ColumnTransformer\n",
    "one_hot_columns = ['seller_type','fuel_type','transmission_type']\n",
    "num_features = X_train.select_dtypes(exclude='object').columns\n",
    "preprocessor = ColumnTransformer(\n",
    "    [\n",
    "        ('OneHotEncoder', OneHotEncoder(drop='first'), one_hot_columns),\n",
    "        ('StandardScaler',StandardScaler(),num_features)\n",
    "    ],\n",
    "    remainder='passthrough'\n",
    ")\n",
    "X_train = preprocessor.fit_transform(X_train)\n",
    "X_test = preprocessor.transform(X_test)"
   ]
  },
  {
   "cell_type": "code",
   "execution_count": 17,
   "id": "3a759c35-f401-4002-ae1b-fd11766e61e0",
   "metadata": {},
   "outputs": [],
   "source": [
    "X_train = pd.DataFrame(X_train)\n",
    "X_test =pd.DataFrame(X_test)"
   ]
  },
  {
   "cell_type": "code",
   "execution_count": 18,
   "id": "1f43e850-cf94-4c17-9f38-6c96d7aebccb",
   "metadata": {},
   "outputs": [
    {
     "data": {
      "text/plain": [
       "(    0    1    2    3    4    5    6         7         8         9         10  \\\n",
       " 0  0.0  0.0  1.0  0.0  0.0  0.0  0.0  1.255968  0.323969  0.349100 -2.050819   \n",
       " 1  1.0  0.0  0.0  0.0  0.0  1.0  1.0  0.789199 -1.337798 -1.069394  0.985661   \n",
       " 2  0.0  0.0  1.0  0.0  0.0  0.0  0.0 -1.242618 -1.337798 -1.163564 -0.177042   \n",
       " 3  0.0  0.0  0.0  0.0  0.0  1.0  1.0 -1.022962  0.323969  0.178369 -0.465315   \n",
       " 4  0.0  0.0  0.0  0.0  0.0  1.0  1.0  1.503081  1.321030  0.585469  0.149668   \n",
       " \n",
       "          11        12        13  \n",
       " 0  1.756765  2.681685 -0.403824  \n",
       " 1 -0.547081 -0.382744 -0.403824  \n",
       " 2  0.893542  3.296910 -0.403824  \n",
       " 3  0.024564  0.396229 -0.403824  \n",
       " 4 -0.550917 -0.502047 -0.403824  ,\n",
       "     0    1    2    3    4    5    6         7         8         9         10  \\\n",
       " 0  0.0  0.0  0.0  0.0  0.0  1.0  1.0  1.503081  1.985737  0.413795  0.149668   \n",
       " 1  1.0  0.0  1.0  0.0  0.0  0.0  1.0 -1.352446 -0.673091  0.060655  1.838470   \n",
       " 2  0.0  0.0  1.0  0.0  0.0  0.0  1.0 -0.556193  0.323969  0.955277  0.248161   \n",
       " 3  0.0  0.0  0.0  0.0  0.0  1.0  0.0 -1.022962 -1.670152 -1.198878 -0.321179   \n",
       " 4  0.0  0.0  0.0  0.0  0.0  1.0  1.0 -1.517188  1.653383  0.154826 -0.008882   \n",
       " \n",
       "          11        12        13  \n",
       " 0 -0.550917 -0.502047 -0.403824  \n",
       " 1 -0.453086 -0.616670 -0.403824  \n",
       " 2 -0.453086 -0.271396  2.070500  \n",
       " 3  0.026483  0.444184 -0.403824  \n",
       " 4 -1.320145 -1.264645 -0.403824  )"
      ]
     },
     "execution_count": 18,
     "metadata": {},
     "output_type": "execute_result"
    }
   ],
   "source": [
    "X_train.head(),X_test.head()"
   ]
  },
  {
   "cell_type": "markdown",
   "id": "3bcd80f2-1b85-4534-a431-34e4a7c8d23c",
   "metadata": {},
   "source": [
    "## **8. Model Training, Model Evaluation And Model Selection**"
   ]
  },
  {
   "cell_type": "code",
   "execution_count": 19,
   "id": "5641c23f-c022-4f05-8e7d-92a4c07dec43",
   "metadata": {},
   "outputs": [],
   "source": [
    "# Importing models\n",
    "from sklearn.ensemble import RandomForestRegressor\n",
    "from sklearn.ensemble import GradientBoostingRegressor\n",
    "\n",
    "# Import model evaluation functions\n",
    "from sklearn.metrics import r2_score,mean_absolute_error,mean_squared_error"
   ]
  },
  {
   "cell_type": "code",
   "execution_count": 20,
   "id": "b47250b8-b13f-4720-85d8-6a6e6ad4f9f9",
   "metadata": {},
   "outputs": [],
   "source": [
    "def evaluate_model(y_test,y_pred):\n",
    "    \"\"\"\n",
    "    Evaluate model performance using various metrics.\n",
    "    \n",
    "    Parameters:\n",
    "    - y_true: array-like\n",
    "        True target values.\n",
    "    - y_pred: array-like\n",
    "        Predicted values from the model.\n",
    "\n",
    "    Returns:\n",
    "    - r2: float\n",
    "        R^2 score.\n",
    "    - mae: float\n",
    "        Mean Absolute Error.\n",
    "    - mse: float\n",
    "        Mean Squared Error.\n",
    "    - rmse: float\n",
    "        Root Mean Squared Error.\n",
    "    \"\"\"\n",
    "    r2 = r2_score(y_test,y_pred)\n",
    "    mae = mean_absolute_error(y_test,y_pred)\n",
    "    mse = mean_squared_error(y_test,y_pred)\n",
    "    rmse = np.sqrt(mse)\n",
    "\n",
    "    return r2,mae,mse,rmse "
   ]
  },
  {
   "cell_type": "code",
   "execution_count": 21,
   "id": "fa4c2ec5-a4cf-4a0e-95be-15e3159cb3d4",
   "metadata": {},
   "outputs": [],
   "source": [
    "def train_models(models : dict, X_train, X_test, y_train, y_test):\n",
    "    \"\"\"\n",
    "    Train multiple models and evaluate their performance.\n",
    "\n",
    "    Parameters:\n",
    "    - models: dict\n",
    "        A dictionary where keys are model names and values are model instances.\n",
    "    - X_train: array-like or pd.DataFrame\n",
    "        Feature matrix for training data.\n",
    "    - y_train: array-like or pd.Series\n",
    "        Target vector for training data.\n",
    "    - X_test: array-like or pd.DataFrame\n",
    "        Feature matrix for test data.\n",
    "    - y_test: array-like or pd.Series\n",
    "        Target vector for test data.\n",
    "    \"\"\"\n",
    "    for i in range(len(list(models))):\n",
    "        model = list(models.values())[i]\n",
    "        model.fit(X_train,y_train)\n",
    "    \n",
    "        # Make Predictions\n",
    "        y_train_pred = model.predict(X_train)\n",
    "        y_test_pred =model.predict(X_test)\n",
    "    \n",
    "        model_train_r2, model_train_mae, model_train_mse, model_train_rmse = evaluate_model(y_train,y_train_pred)\n",
    "        model_test_r2, model_test_mae, model_test_mse, model_test_rmse = evaluate_model(y_test,y_test_pred)\n",
    "        \n",
    "        print(list(models.keys())[i])\n",
    "        print(\"-----------------------\")\n",
    "        print('Model Performance on Training set')\n",
    "        print(\"-----------------------------\")\n",
    "        print(\"- R2 Score : {:.2f}\".format(model_train_r2))\n",
    "        print(\"- Mean Absolute Error : {:.2f}\".format(model_train_mae))\n",
    "        print(\"- Mean Squared Error : {:.2f}\".format(model_train_mse))\n",
    "        print(\"- Root Mean Squared Error : {:.2f}\".format(model_train_rmse))\n",
    "    \n",
    "        print('Model Performance on Test set')\n",
    "        print(\"-----------------------------\")\n",
    "        print(\"- R2 Score : {:.2f}\".format(model_test_r2))\n",
    "        print(\"- Mean Absolute Error : {:.2f}\".format(model_test_mae))\n",
    "        print(\"- Mean Squared Error : {:.2f}\".format(model_test_mse))\n",
    "        print(\"- Root Mean Squared Error : {:.2f}\".format(model_test_rmse))\n",
    "        print(\"--------------------------------------------------------------\")\n",
    "        "
   ]
  },
  {
   "cell_type": "code",
   "execution_count": 22,
   "id": "c280cabd-7ea9-406f-a96f-2ea27a8d7855",
   "metadata": {},
   "outputs": [],
   "source": [
    "models = {\n",
    "\n",
    "    'Random Forest Regressor' : RandomForestRegressor(),\n",
    "    'Gradient Boosting Regressor' : GradientBoostingRegressor(),\n",
    "\n",
    "}"
   ]
  },
  {
   "cell_type": "code",
   "execution_count": 24,
   "id": "66f78064-2cd0-4c4e-a9de-6065221d234e",
   "metadata": {},
   "outputs": [
    {
     "name": "stdout",
     "output_type": "stream",
     "text": [
      "Random Forest Regressor\n",
      "-----------------------\n",
      "Model Performance on Training set\n",
      "-----------------------------\n",
      "- R2 Score : 0.98\n",
      "- Mean Absolute Error : 39806.50\n",
      "- Mean Squared Error : 17640391740.29\n",
      "- Root Mean Squared Error : 132817.14\n",
      "Model Performance on Test set\n",
      "-----------------------------\n",
      "- R2 Score : 0.93\n",
      "- Mean Absolute Error : 101384.30\n",
      "- Mean Squared Error : 50678605789.59\n",
      "- Root Mean Squared Error : 225119.09\n",
      "--------------------------------------------------------------\n",
      "Gradient Boosting Regressor\n",
      "-----------------------\n",
      "Model Performance on Training set\n",
      "-----------------------------\n",
      "- R2 Score : 0.95\n",
      "- Mean Absolute Error : 111709.56\n",
      "- Mean Squared Error : 42002252335.71\n",
      "- Root Mean Squared Error : 204944.51\n",
      "Model Performance on Test set\n",
      "-----------------------------\n",
      "- R2 Score : 0.91\n",
      "- Mean Absolute Error : 126637.51\n",
      "- Mean Squared Error : 65987544445.64\n",
      "- Root Mean Squared Error : 256880.41\n",
      "--------------------------------------------------------------\n"
     ]
    }
   ],
   "source": [
    "train_models(models,X_train, X_test, y_train, y_test)"
   ]
  },
  {
   "cell_type": "markdown",
   "id": "c8d6e9b3-d93d-4a7d-be1b-0b4a6e6bb8b2",
   "metadata": {},
   "source": [
    " **We'll select GradientBoosting model And Random Forest model for HyperParameater Tuning because of performong well on the test data.**"
   ]
  },
  {
   "cell_type": "markdown",
   "id": "8115e9ff-278d-4433-b1e4-7b72a24264e6",
   "metadata": {},
   "source": [
    "## **9. Hyperparameter Tuning**"
   ]
  },
  {
   "cell_type": "code",
   "execution_count": 26,
   "id": "62450928-1211-446a-befc-f2dc7fb92f61",
   "metadata": {},
   "outputs": [],
   "source": [
    "# Initialize Hyperparameters for Tuning\n",
    "rf_params = {\n",
    "    'max_depth' : ['None', 5, 8, 10, 15],\n",
    "    'max_features' : ['auto', 5, 7, 8],\n",
    "    'min_samples_split' : [2, 8, 15, 20],\n",
    "    'n_estimators' : [100, 200, 500, 1000]\n",
    "}\n",
    "gradient_boost_params = {\n",
    "    'loss' : ['squared_error', 'huber', 'absolute_error'],\n",
    "    'criterion': ['friedman_mse', 'squared_error', 'mse'],\n",
    "    'n_estimators': [100,200,500],\n",
    "    'min_samples_split':[2,8,15,20],\n",
    "    'max_depth': [5,8,15,None,10],\n",
    "    'learning_rate' : [0.1, 0.01, 0.001]\n",
    "}"
   ]
  },
  {
   "cell_type": "code",
   "execution_count": 27,
   "id": "5e127c6d-e298-4ef8-83cb-204c95a1622b",
   "metadata": {},
   "outputs": [],
   "source": [
    "random_cv_models = [\n",
    "    ('Random Forest' ,RandomForestRegressor(),rf_params),\n",
    "    ('Gradient Boosting Regressor' ,GradientBoostingRegressor(),gradient_boost_params)\n",
    "]"
   ]
  },
  {
   "cell_type": "code",
   "execution_count": 28,
   "id": "673601ef-093f-4ee3-930c-a2f3e0379fbb",
   "metadata": {},
   "outputs": [
    {
     "name": "stdout",
     "output_type": "stream",
     "text": [
      "Fitting 3 folds for each of 100 candidates, totalling 300 fits\n",
      "Fitting 3 folds for each of 100 candidates, totalling 300 fits\n"
     ]
    }
   ],
   "source": [
    "from sklearn.model_selection import RandomizedSearchCV\n",
    "\n",
    "model_params = {}\n",
    "for name, model, params in random_cv_models:\n",
    "    random = RandomizedSearchCV(\n",
    "        estimator=model,\n",
    "        param_distributions=params,\n",
    "        n_iter=100,\n",
    "        cv=3,\n",
    "        verbose=2,\n",
    "        n_jobs=-1,\n",
    "    )\n",
    "    random.fit(X_train,y_train)\n",
    "    model_params[name] = random.best_params_"
   ]
  },
  {
   "cell_type": "code",
   "execution_count": 29,
   "id": "aa747581-f325-4d25-9a01-222fb9a0d302",
   "metadata": {},
   "outputs": [
    {
     "name": "stdout",
     "output_type": "stream",
     "text": [
      "Best Params for Random Forest:\n",
      "{'n_estimators': 100, 'min_samples_split': 2, 'max_features': 7, 'max_depth': 15}\n",
      "\n",
      "Best Params for Gradient Boosting Regressor:\n",
      "{'n_estimators': 100, 'min_samples_split': 2, 'max_depth': 8, 'loss': 'huber', 'learning_rate': 0.1, 'criterion': 'friedman_mse'}\n",
      "\n"
     ]
    }
   ],
   "source": [
    "for model_name in model_params:\n",
    "    print(f\"Best Params for {model_name}:\\n{model_params[model_name]}\\n\")"
   ]
  },
  {
   "cell_type": "code",
   "execution_count": 33,
   "id": "8389255e-9630-4ae7-96ca-e183c5a782bf",
   "metadata": {},
   "outputs": [
    {
     "name": "stdout",
     "output_type": "stream",
     "text": [
      "Random Forest Regressor\n",
      "-----------------------\n",
      "Model Performance on Training set\n",
      "-----------------------------\n",
      "- R2 Score : 0.96\n",
      "- Mean Absolute Error : 83946.50\n",
      "- Mean Squared Error : 30027877192.73\n",
      "- Root Mean Squared Error : 173285.54\n",
      "Model Performance on Test set\n",
      "-----------------------------\n",
      "- R2 Score : 0.93\n",
      "- Mean Absolute Error : 107505.29\n",
      "- Mean Squared Error : 54719141969.61\n",
      "- Root Mean Squared Error : 233921.23\n",
      "--------------------------------------------------------------\n",
      "Gradient Boosting\n",
      "-----------------------\n",
      "Model Performance on Training set\n",
      "-----------------------------\n",
      "- R2 Score : 0.99\n",
      "- Mean Absolute Error : 38296.09\n",
      "- Mean Squared Error : 4508298281.92\n",
      "- Root Mean Squared Error : 67143.86\n",
      "Model Performance on Test set\n",
      "-----------------------------\n",
      "- R2 Score : 0.93\n",
      "- Mean Absolute Error : 98384.41\n",
      "- Mean Squared Error : 55532319509.38\n",
      "- Root Mean Squared Error : 235652.96\n",
      "--------------------------------------------------------------\n"
     ]
    }
   ],
   "source": [
    "# Retrain model With best params\n",
    "models = {\n",
    "    'Random Forest Regressor' :RandomForestRegressor(n_estimators=100,\n",
    "                                                     min_samples_split=2,\n",
    "                                                     max_features=8,\n",
    "                                                     max_depth=10),\n",
    "    'Gradient Boosting':GradientBoostingRegressor(n_estimators=200,\n",
    "                                                  min_samples_split=8,\n",
    "                                                  max_depth=10,\n",
    "                                                  loss = 'huber',\n",
    "                                                  criterion = 'squared_error',\n",
    "                                                  learning_rate=0.1),\n",
    "    \n",
    "}\n",
    "train_models(models,X_train, X_test, y_train, y_test)"
   ]
  },
  {
   "cell_type": "code",
   "execution_count": null,
   "id": "67821f36-f634-4059-883e-375fc4304579",
   "metadata": {},
   "outputs": [],
   "source": []
  }
 ],
 "metadata": {
  "kernelspec": {
   "display_name": "Python 3 (ipykernel)",
   "language": "python",
   "name": "python3"
  },
  "language_info": {
   "codemirror_mode": {
    "name": "ipython",
    "version": 3
   },
   "file_extension": ".py",
   "mimetype": "text/x-python",
   "name": "python",
   "nbconvert_exporter": "python",
   "pygments_lexer": "ipython3",
   "version": "3.12.4"
  },
  "widgets": {
   "application/vnd.jupyter.widget-state+json": {
    "state": {},
    "version_major": 2,
    "version_minor": 0
   }
  }
 },
 "nbformat": 4,
 "nbformat_minor": 5
}
