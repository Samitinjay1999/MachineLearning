{
 "cells": [
  {
   "cell_type": "code",
   "execution_count": 1,
   "id": "a9b944a3-a2a1-434b-8074-2330edb88749",
   "metadata": {},
   "outputs": [],
   "source": [
    "import pandas as pd \n",
    "from sklearn.datasets import load_iris\n",
    "from sklearn.model_selection import train_test_split\n",
    "from sklearn.tree import DecisionTreeClassifier\n",
    "import sklearn.tree as tree\n",
    "import matplotlib.pyplot as plt\n",
    "\n",
    "X,y = load_iris(return_X_y=True)\n",
    "df = pd.DataFrame(X,columns=)\n"
   ]
  },
  {
   "cell_type": "code",
   "execution_count": null,
   "id": "5491a594-f90b-42da-9755-44a188ee1964",
   "metadata": {},
   "outputs": [],
   "source": []
  }
 ],
 "metadata": {
  "kernelspec": {
   "display_name": "Python 3 (ipykernel)",
   "language": "python",
   "name": "python3"
  },
  "language_info": {
   "codemirror_mode": {
    "name": "ipython",
    "version": 3
   },
   "file_extension": ".py",
   "mimetype": "text/x-python",
   "name": "python",
   "nbconvert_exporter": "python",
   "pygments_lexer": "ipython3",
   "version": "3.12.4"
  },
  "widgets": {
   "application/vnd.jupyter.widget-state+json": {
    "state": {},
    "version_major": 2,
    "version_minor": 0
   }
  }
 },
 "nbformat": 4,
 "nbformat_minor": 5
}
